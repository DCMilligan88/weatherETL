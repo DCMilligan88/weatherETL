{
 "cells": [
  {
   "cell_type": "code",
   "execution_count": 15,
   "metadata": {},
   "outputs": [],
   "source": [
    "import pandas as pd\n",
    "from sqlalchemy import create_engine"
   ]
  },
  {
   "cell_type": "code",
   "execution_count": 18,
   "metadata": {},
   "outputs": [],
   "source": [
    "#read in csv \n",
    "csv_path = \"data/PlacesForBikes.csv\"\n",
    "bike_data = pd.read_csv(csv_path)"
   ]
  },
  {
   "cell_type": "code",
   "execution_count": 19,
   "metadata": {},
   "outputs": [],
   "source": [
    "clean = { 'City' : bike_data['City_Alt'], 'Overall Score' : bike_data['Total Ponts'], \n",
    "         'Ridership' : bike_data['Total ridership score'], \"Safety\" : bike_data['Total Safety Points'], \n",
    "         'Acceleration' : bike_data['Total Acceleration Points'], 'Network' : bike_data['Total Nework Points'],\n",
    "        'Reach' : bike_data['Total Reach Points']}\n",
    "\n",
    "clean_bike_data = pd.DataFrame(clean)\n",
    "clean_bike_data.head()\n",
    "clean_biker = bike_data.drop(['Places_ID_2019','City', 'Bonus'], axis = 1)\n",
    "clean_biker.to_csv('data/bike_scoring.csv', index = False, header = True)\n"
   ]
  },
  {
   "cell_type": "code",
   "execution_count": 18,
   "metadata": {},
   "outputs": [],
   "source": [
    "# Export cleaned data\n",
    "clean_bike_data.to_csv(\"clean/bike_data.csv\", index=False, header=True)"
   ]
  },
  {
   "cell_type": "code",
   "execution_count": 28,
   "metadata": {},
   "outputs": [],
   "source": [
    "rider_data = {'City' : bike_data['City_Alt']}\n",
    "safety_data = {'City' : bike_data['City_Alt']}\n",
    "network_data = {'City' : bike_data['City_Alt']}\n",
    "acc_data = {'City' : bike_data['City_Alt']}\n",
    "reach_data = {'City' : bike_data['City_Alt']}\n",
    "k = 0\n",
    "for x in bike_data.columns:\n",
    "    if k >= 3 and k<13:\n",
    "        rider_data[x] = bike_data[x]\n",
    "    elif k >= 13 and k < 29:\n",
    "        safety_data[x] = bike_data[x]\n",
    "    elif k >= 29 and k < 32:\n",
    "        acc_data[x] = bike_data[x]\n",
    "    elif k >=32 and k <36 :\n",
    "        network_data[x] = bike_data[x]\n",
    "    elif k>= 36 and k <= 52 :\n",
    "        reach_data[x] = bike_data[x]\n",
    "        if k == 52: \n",
    "            break;\n",
    "    k+=1"
   ]
  },
  {
   "cell_type": "code",
   "execution_count": 30,
   "metadata": {},
   "outputs": [],
   "source": [
    "rider_df = pd.DataFrame(rider_data)\n",
    "safety_df = pd.DataFrame(safety_data)\n",
    "network_df = pd.DataFrame(network_data)\n",
    "acc_df = pd.DataFrame(acc_data)\n",
    "reach_df = pd.DataFrame(reach_data)"
   ]
  },
  {
   "cell_type": "code",
   "execution_count": 37,
   "metadata": {},
   "outputs": [],
   "source": [
    "rider_df.to_csv('clean/ridership.csv', index = False, header = True)\n",
    "safety_df.to_csv('clean/safety.csv', index = False, header = True) \n",
    "network_df.to_csv('clean/network.csv', index = False, header = True) \n",
    "acc_df.to_csv('clean/acceleration.csv', index = False, header = True)\n",
    "reach_df.to_csv('clean/reach.csv', index = False, header = True)"
   ]
  },
  {
   "cell_type": "code",
   "execution_count": null,
   "metadata": {},
   "outputs": [],
   "source": [
    "connection_string = \"postgres:Chasedog10:5432/best_biking\"\n",
    "engine = create_engine(f'postgresql://{connection_string}')"
   ]
  },
  {
   "cell_type": "code",
   "execution_count": null,
   "metadata": {},
   "outputs": [],
   "source": [
    "engine.table_names()"
   ]
  },
  {
   "cell_type": "code",
   "execution_count": 21,
   "metadata": {},
   "outputs": [],
   "source": [
    "rider_df = rider_df.set_index(\"City\", inplace = True)\n",
    "safety_df = safety_df.set_index(\"City\", inplace = True)\n",
    "network_df = network_df.set_index(\"City\", inplace = True)\n",
    "acc_df = acc_df.set_index(\"City\", inplace = True)\n",
    "reach_df = reach_df.set_index(\"City\", inplace = True)\n",
    "clean_bike_data = clean_bike_data.set_index(\"City\", inplace = True)\n",
    "\n",
    "\n",
    "rider_df.to_sql(name='ridership', con=engine, if_exists='append', index=True)\n",
    "safety_df.to_sql(name='safety', con=engine, if_exists='append', index=True)\n",
    "network_df.to_sql(name='network', con=engine, if_exists='append', index=True)\n",
    "acc_df.to_sql(name='acceleration', con=engine, if_exists='append', index=True)\n",
    "reach_df.to_sql(name='reach', con=engine, if_exists='append', index=True)\n",
    "clean_bike_data.to_sql(name='bike_score_data', con=engine, if_exists='append', index=True)"
   ]
  },
  {
   "cell_type": "code",
   "execution_count": null,
   "metadata": {},
   "outputs": [],
   "source": []
  }
 ],
 "metadata": {
  "kernelspec": {
   "display_name": "Python 3",
   "language": "python",
   "name": "python3"
  },
  "language_info": {
   "codemirror_mode": {
    "name": "ipython",
    "version": 3
   },
   "file_extension": ".py",
   "mimetype": "text/x-python",
   "name": "python",
   "nbconvert_exporter": "python",
   "pygments_lexer": "ipython3",
   "version": "3.7.5"
  }
 },
 "nbformat": 4,
 "nbformat_minor": 4
}
