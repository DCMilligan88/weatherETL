{
 "cells": [
  {
   "cell_type": "code",
   "execution_count": 25,
   "metadata": {},
   "outputs": [],
   "source": [
    "import pandas as pd\n",
    "import numpy as np\n",
    "import matplotlib.pyplot as plt\n",
    "import scipy.stats as st"
   ]
  },
  {
   "cell_type": "code",
   "execution_count": 52,
   "metadata": {},
   "outputs": [
    {
     "data": {
      "text/html": [
       "<div>\n",
       "<style scoped>\n",
       "    .dataframe tbody tr th:only-of-type {\n",
       "        vertical-align: middle;\n",
       "    }\n",
       "\n",
       "    .dataframe tbody tr th {\n",
       "        vertical-align: top;\n",
       "    }\n",
       "\n",
       "    .dataframe thead th {\n",
       "        text-align: right;\n",
       "    }\n",
       "</style>\n",
       "<table border=\"1\" class=\"dataframe\">\n",
       "  <thead>\n",
       "    <tr style=\"text-align: right;\">\n",
       "      <th></th>\n",
       "      <th>State</th>\n",
       "      <th>City Name</th>\n",
       "      <th>Good Weather %ile</th>\n",
       "      <th>Overall Biking Score</th>\n",
       "      <th>Ridership</th>\n",
       "      <th>Safety</th>\n",
       "      <th>Acceleration</th>\n",
       "      <th>Network</th>\n",
       "      <th>Reach</th>\n",
       "    </tr>\n",
       "  </thead>\n",
       "  <tbody>\n",
       "    <tr>\n",
       "      <th>0</th>\n",
       "      <td>AR</td>\n",
       "      <td>SPRINGDALE</td>\n",
       "      <td>55</td>\n",
       "      <td>3.0</td>\n",
       "      <td>1.3</td>\n",
       "      <td>2.2</td>\n",
       "      <td>3.0</td>\n",
       "      <td>2.2</td>\n",
       "      <td>4.0</td>\n",
       "    </tr>\n",
       "    <tr>\n",
       "      <th>1</th>\n",
       "      <td>IN</td>\n",
       "      <td>SOUTH BEND</td>\n",
       "      <td>86</td>\n",
       "      <td>2.0</td>\n",
       "      <td>1.7</td>\n",
       "      <td>1.9</td>\n",
       "      <td>0.6</td>\n",
       "      <td>2.1</td>\n",
       "      <td>3.7</td>\n",
       "    </tr>\n",
       "    <tr>\n",
       "      <th>2</th>\n",
       "      <td>MI</td>\n",
       "      <td>KALAMAZOO</td>\n",
       "      <td>85</td>\n",
       "      <td>1.9</td>\n",
       "      <td>1.7</td>\n",
       "      <td>1.7</td>\n",
       "      <td>0.6</td>\n",
       "      <td>2.2</td>\n",
       "      <td>3.6</td>\n",
       "    </tr>\n",
       "    <tr>\n",
       "      <th>3</th>\n",
       "      <td>MO</td>\n",
       "      <td>SPRINGFIELD</td>\n",
       "      <td>63</td>\n",
       "      <td>1.9</td>\n",
       "      <td>1.8</td>\n",
       "      <td>1.3</td>\n",
       "      <td>0.5</td>\n",
       "      <td>2.2</td>\n",
       "      <td>3.5</td>\n",
       "    </tr>\n",
       "    <tr>\n",
       "      <th>6</th>\n",
       "      <td>IN</td>\n",
       "      <td>FORT WAYNE</td>\n",
       "      <td>97</td>\n",
       "      <td>1.9</td>\n",
       "      <td>1.7</td>\n",
       "      <td>1.9</td>\n",
       "      <td>0.6</td>\n",
       "      <td>2.2</td>\n",
       "      <td>3.1</td>\n",
       "    </tr>\n",
       "    <tr>\n",
       "      <th>...</th>\n",
       "      <td>...</td>\n",
       "      <td>...</td>\n",
       "      <td>...</td>\n",
       "      <td>...</td>\n",
       "      <td>...</td>\n",
       "      <td>...</td>\n",
       "      <td>...</td>\n",
       "      <td>...</td>\n",
       "      <td>...</td>\n",
       "    </tr>\n",
       "    <tr>\n",
       "      <th>309</th>\n",
       "      <td>NV</td>\n",
       "      <td>HENDERSON</td>\n",
       "      <td>3</td>\n",
       "      <td>1.4</td>\n",
       "      <td>1.5</td>\n",
       "      <td>2.1</td>\n",
       "      <td>0.5</td>\n",
       "      <td>2.2</td>\n",
       "      <td>0.9</td>\n",
       "    </tr>\n",
       "    <tr>\n",
       "      <th>310</th>\n",
       "      <td>IN</td>\n",
       "      <td>BLOOMINGTON</td>\n",
       "      <td>68</td>\n",
       "      <td>1.7</td>\n",
       "      <td>1.9</td>\n",
       "      <td>1.9</td>\n",
       "      <td>0.6</td>\n",
       "      <td>3.0</td>\n",
       "      <td>0.9</td>\n",
       "    </tr>\n",
       "    <tr>\n",
       "      <th>312</th>\n",
       "      <td>IL</td>\n",
       "      <td>ROCKFORD</td>\n",
       "      <td>96</td>\n",
       "      <td>1.3</td>\n",
       "      <td>1.6</td>\n",
       "      <td>1.4</td>\n",
       "      <td>0.5</td>\n",
       "      <td>2.1</td>\n",
       "      <td>0.9</td>\n",
       "    </tr>\n",
       "    <tr>\n",
       "      <th>313</th>\n",
       "      <td>TN</td>\n",
       "      <td>CLARKSVILLE</td>\n",
       "      <td>53</td>\n",
       "      <td>1.1</td>\n",
       "      <td>1.3</td>\n",
       "      <td>1.1</td>\n",
       "      <td>0.3</td>\n",
       "      <td>2.0</td>\n",
       "      <td>0.8</td>\n",
       "    </tr>\n",
       "    <tr>\n",
       "      <th>314</th>\n",
       "      <td>WY</td>\n",
       "      <td>CHEYENNE</td>\n",
       "      <td>61</td>\n",
       "      <td>1.2</td>\n",
       "      <td>1.6</td>\n",
       "      <td>1.3</td>\n",
       "      <td>0.4</td>\n",
       "      <td>2.1</td>\n",
       "      <td>0.7</td>\n",
       "    </tr>\n",
       "  </tbody>\n",
       "</table>\n",
       "<p>241 rows × 9 columns</p>\n",
       "</div>"
      ],
      "text/plain": [
       "    State    City Name  Good Weather %ile  Overall Biking Score  Ridership  \\\n",
       "0      AR   SPRINGDALE                 55                   3.0        1.3   \n",
       "1      IN   SOUTH BEND                 86                   2.0        1.7   \n",
       "2      MI    KALAMAZOO                 85                   1.9        1.7   \n",
       "3      MO  SPRINGFIELD                 63                   1.9        1.8   \n",
       "6      IN   FORT WAYNE                 97                   1.9        1.7   \n",
       "..    ...          ...                ...                   ...        ...   \n",
       "309    NV    HENDERSON                  3                   1.4        1.5   \n",
       "310    IN  BLOOMINGTON                 68                   1.7        1.9   \n",
       "312    IL     ROCKFORD                 96                   1.3        1.6   \n",
       "313    TN  CLARKSVILLE                 53                   1.1        1.3   \n",
       "314    WY     CHEYENNE                 61                   1.2        1.6   \n",
       "\n",
       "     Safety  Acceleration  Network  Reach  \n",
       "0       2.2           3.0      2.2    4.0  \n",
       "1       1.9           0.6      2.1    3.7  \n",
       "2       1.7           0.6      2.2    3.6  \n",
       "3       1.3           0.5      2.2    3.5  \n",
       "6       1.9           0.6      2.2    3.1  \n",
       "..      ...           ...      ...    ...  \n",
       "309     2.1           0.5      2.2    0.9  \n",
       "310     1.9           0.6      3.0    0.9  \n",
       "312     1.4           0.5      2.1    0.9  \n",
       "313     1.1           0.3      2.0    0.8  \n",
       "314     1.3           0.4      2.1    0.7  \n",
       "\n",
       "[241 rows x 9 columns]"
      ]
     },
     "execution_count": 52,
     "metadata": {},
     "output_type": "execute_result"
    }
   ],
   "source": [
    "x = pd.read_csv('clean/merge2_data.csv')\n",
    "x = x[['State', 'City Name', 'Value', 'Overall Score', 'Ridership', 'Safety', 'Acceleration', 'Network', 'Reach']]\n",
    "x = x.rename(columns={'Value': \"Good Weather %ile\", 'Overall Score': 'Overall Biking Score'})\n",
    "x = x.dropna(how='any')\n",
    "x"
   ]
  },
  {
   "cell_type": "code",
   "execution_count": 53,
   "metadata": {},
   "outputs": [
    {
     "name": "stdout",
     "output_type": "stream",
     "text": [
      "The r-squared is: 0.006491033184142816\n"
     ]
    },
    {
     "data": {
      "image/png": "[encoded data removed]",
      "text/plain": [
       "<Figure size 432x288 with 1 Axes>"
      ]
     },
     "metadata": {
      "needs_background": "light"
     },
     "output_type": "display_data"
    }
   ],
   "source": [
    "plt.scatter(x['Good Weather %ile'], x['Overall Biking Score'])\n",
    "plt.title('Overall Biking Score Vs Good Weather %ile')\n",
    "plt.xlabel('Good Weather %ile')\n",
    "plt.ylabel('Overall Biking Score')\n",
    "x_val=x['Good Weather %ile']\n",
    "y_val=x['Overall Biking Score']\n",
    "(slope, intercept, rvalue, pvalue, stderr) = st.linregress(x_val, y_val)\n",
    "line_eq = \"y = \" + str(round(slope,5)) + \"x + \" + str(round(intercept,2))\n",
    "regress_values = x_val * slope + intercept\n",
    "plt.plot(x_val,regress_values,\"r-\")\n",
    "plt.annotate(line_eq,(1,3.2),fontsize=15,color=\"red\")\n",
    "print(f\"The r-squared is: {rvalue**2}\")"
   ]
  },
  {
   "cell_type": "code",
   "execution_count": 54,
   "metadata": {},
   "outputs": [
    {
     "name": "stdout",
     "output_type": "stream",
     "text": [
      "The r-squared is: 0.0004972716561685319\n"
     ]
    },
    {
     "data": {
      "image/png": "[encoded data removed]",
      "text/plain": [
       "<Figure size 432x288 with 1 Axes>"
      ]
     },
     "metadata": {
      "needs_background": "light"
     },
     "output_type": "display_data"
    }
   ],
   "source": [
    "plt.scatter(x['Good Weather %ile'], x['Safety'])\n",
    "plt.title('Safety Vs Good Weather %ile')\n",
    "plt.xlabel('Good Weather %ile')\n",
    "plt.ylabel('Safety Rating')\n",
    "x_val=x['Good Weather %ile']\n",
    "y_val=x['Safety']\n",
    "(slope, intercept, rvalue, pvalue, stderr) = st.linregress(x_val, y_val)\n",
    "line_eq = \"y = \" + str(round(slope,5)) + \"x + \" + str(round(intercept,2))\n",
    "regress_values = x_val * slope + intercept\n",
    "plt.plot(x_val,regress_values,\"r-\")\n",
    "plt.annotate(line_eq,(1,3.2),fontsize=15,color=\"red\")\n",
    "print(f\"The r-squared is: {rvalue**2}\")"
   ]
  },
  {
   "cell_type": "code",
   "execution_count": 55,
   "metadata": {},
   "outputs": [
    {
     "name": "stdout",
     "output_type": "stream",
     "text": [
      "The r-squared is: 0.004533342278224175\n"
     ]
    },
    {
     "data": {
      "image/png": "[encoded data removed]",
      "text/plain": [
       "<Figure size 432x288 with 1 Axes>"
      ]
     },
     "metadata": {
      "needs_background": "light"
     },
     "output_type": "display_data"
    }
   ],
   "source": [
    "plt.scatter(x['Good Weather %ile'], x['Ridership'])\n",
    "plt.title('Ridership Vs Good Weather %ile')\n",
    "plt.xlabel('Good Weather %ile')\n",
    "plt.ylabel('Safety Rating')\n",
    "x_val=x['Good Weather %ile']\n",
    "y_val=x['Ridership']\n",
    "(slope, intercept, rvalue, pvalue, stderr) = st.linregress(x_val, y_val)\n",
    "line_eq = \"y = \" + str(round(slope,5)) + \"x + \" + str(round(intercept,2))\n",
    "regress_values = x_val * slope + intercept\n",
    "plt.plot(x_val,regress_values,\"r-\")\n",
    "plt.annotate(line_eq,(1,3.2),fontsize=15,color=\"red\")\n",
    "print(f\"The r-squared is: {rvalue**2}\")"
   ]
  },
  {
   "cell_type": "code",
   "execution_count": null,
   "metadata": {},
   "outputs": [],
   "source": []
  }
 ],
 "metadata": {
  "kernelspec": {
   "display_name": "Python 3",
   "language": "python",
   "name": "python3"
  },
  "language_info": {
   "codemirror_mode": {
    "name": "ipython",
    "version": 3
   },
   "file_extension": ".py",
   "mimetype": "text/x-python",
   "name": "python",
   "nbconvert_exporter": "python",
   "pygments_lexer": "ipython3",
   "version": "3.7.4"
  }
 },
 "nbformat": 4,
 "nbformat_minor": 4
}
