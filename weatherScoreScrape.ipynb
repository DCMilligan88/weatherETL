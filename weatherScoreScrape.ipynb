{
 "cells": [
  {
   "cell_type": "code",
<<<<<<< HEAD
   "execution_count": 1,
=======
   "execution_count": 2,
>>>>>>> c6f58744045275070db1fd192d460af156e1408c
   "metadata": {},
   "outputs": [],
   "source": [
    "#import dependencies\n",
    "from bs4 import BeautifulSoup as bs\n",
    "import requests\n",
    "import pandas as pd"
   ]
  },
  {
   "cell_type": "code",
<<<<<<< HEAD
   "execution_count": 2,
=======
   "execution_count": 3,
>>>>>>> c6f58744045275070db1fd192d460af156e1408c
   "metadata": {},
   "outputs": [],
   "source": [
    "#website we are scraping\n",
    "url='https://wallethub.com/edu/cities-with-the-best-worst-weather/5043/'"
   ]
  },
  {
   "cell_type": "code",
<<<<<<< HEAD
   "execution_count": 3,
=======
   "execution_count": 4,
>>>>>>> c6f58744045275070db1fd192d460af156e1408c
   "metadata": {},
   "outputs": [],
   "source": [
    "#getting a response\n",
    "response= requests.get(url)"
   ]
  },
  {
   "cell_type": "code",
<<<<<<< HEAD
   "execution_count": 4,
   "metadata": {},
   "outputs": [
    {
     "data": {
      "text/plain": [
       "\"\\n\\nMild Weather Overall\\nCity\\n\\n\\n\\n1\\nArden-Arcade, CA\\n\\n\\n1\\nCitrus Heights, CA\\n\\n\\n1\\nRoseville, CA\\n\\n\\n1\\nDavis, CA\\n\\n\\n1\\nGlendale, CA\\n\\n\\n1\\nPasadena, CA\\n\\n\\n1\\nBurbank, CA\\n\\n\\n2\\nMenifee, CA\\n\\n\\n2\\nRiverside, CA\\n\\n\\n2\\nJurupa Valley, CA\\n\\n\\n2\\nBakersfield, CA\\n\\n\\n2\\nHesperia, CA\\n\\n\\n3\\nApple Valley, CA\\n\\n\\n3\\nVictorville, CA\\n\\n\\n3\\nScottsdale, AZ\\n\\n\\n3\\nHenderson, NV\\n\\n\\n3\\nIndio, CA\\n\\n\\n3\\nHemet, CA\\n\\n\\n4\\nLas Cruces, NM\\n\\n\\n4\\nNorth Las Vegas, NV\\n\\n\\n4\\nModesto, CA\\n\\n\\n4\\nTurlock, CA\\n\\n\\n4\\nCorona, CA\\n\\n\\n4\\nAnaheim, CA\\n\\n\\n4\\nGarden Grove, CA\\n\\n\\n4\\nFullerton, CA\\n\\n\\n4\\nNorwalk, CA\\n\\n\\n4\\nBuena Park, CA\\n\\n\\n5\\nSaint George, UT\\n\\n\\n5\\nLancaster, CA\\n\\n\\n5\\nPalmdale, CA\\n\\n\\n6\\nLos Angeles, CA\\n\\n\\n6\\nEast Los Angeles, CA\\n\\n\\n6\\nSouth Gate, CA\\n\\n\\n6\\nSan Tan Valley, AZ\\n\\n\\n6\\nRio Rancho, NM\\n\\n\\n7\\nMurrieta, CA\\n\\n\\n7\\nThornton, CO\\n\\n\\n7\\nMerced, CA\\n\\n\\n7\\nPomona, CA\\n\\n\\n7\\nSunnyvale, CA\\n\\n\\n7\\nMountain View, CA\\n\\n\\n8\\nSan Bernardino, CA\\n\\n\\n8\\nRedlands, CA\\n\\n\\n8\\nRialto, CA\\n\\n\\n8\\nLynwood, CA\\n\\n\\n8\\nInglewood, CA\\n\\n\\n8\\nCompton, CA\\n\\n\\n8\\nHawthorne, CA\\n\\n\\n9\\nPleasanton, CA\\n\\n\\n9\\nLivermore, CA\\n\\n\\n9\\nChino, CA\\n\\n\\n9\\nChino Hills, CA\\n\\n\\n9\\nSan Ramon, CA\\n\\n\\n10\\nEl Cajon, CA\\n\\n\\n10\\nVacaville, CA\\n\\n\\n10\\nVisalia, CA\\n\\n\\n10\\nFolsom, CA\\n\\n\\n10\\nElk Grove, CA\\n\\n\\n10\\nRancho Cordova, CA\\n\\n\\n11\\nSacramento, CA\\n\\n\\n11\\nRoswell, NM\\n\\n\\n11\\nStockton, CA\\n\\n\\n11\\nTracy, CA\\n\\n\\n11\\nManteca, CA\\n\\n\\n11\\nYuma, AZ\\n\\n\\n12\\nBoca Raton, FL\\n\\n\\n12\\nBoynton Beach, FL\\n\\n\\n12\\nSurprise, AZ\\n\\n\\n12\\nGlendale, AZ\\n\\n\\n12\\nPeoria, AZ\\n\\n\\n12\\nLongmont, CO\\n\\n\\n13\\nMidland, TX\\n\\n\\n13\\nSanta Monica, CA\\n\\n\\n13\\nBrandon, FL\\n\\n\\n13\\nMoreno Valley, CA\\n\\n\\n13\\nPerris, CA\\n\\n\\n13\\nTemecula, CA\\n\\n\\n14\\nEl Monte, CA\\n\\n\\n14\\nWest Covina, CA\\n\\n\\n14\\nWhittier, CA\\n\\n\\n14\\nAlhambra, CA\\n\\n\\n14\\nBaldwin Park, CA\\n\\n\\n14\\nConcord, CA\\n\\n\\n14\\nAntioch, CA\\n\\n\\n15\\nFort Collins, CO\\n\\n\\n15\\nGreeley, CO\\n\\n\\n15\\nLoveland, CO\\n\\n\\n15\\nLong Beach, CA\\n\\n\\n15\\nDowney, CA\\n\\n\\n16\\nCarson, CA\\n\\n\\n16\\nLakewood, CA\\n\\n\\n16\\nBellflower, CA\\n\\n\\n16\\nNampa, ID\\n\\n\\n16\\nMeridian, ID\\n\\n\\n16\\nFishers, IN\\n\\n\\n17\\nColumbia, MD\\n\\n\\n17\\nTampa, FL\\n\\n\\n17\\nRiverview, FL\\n\\n\\n17\\nSanta Fe, NM\\n\\n\\n17\\nConcord, NC\\n\\n\\n17\\nEscondido, CA\\n\\n\\n18\\nChandler, AZ\\n\\n\\n18\\nGilbert, AZ\\n\\n\\n18\\nTucson, AZ\\n\\n\\n18\\nPhoenix, AZ\\n\\n\\n18\\nTempe, AZ\\n\\n\\n18\\nBoulder, CO\\n\\n\\n18\\nCasas Adobes, AZ\\n\\n\\n19\\nAvondale, AZ\\n\\n\\n19\\nGoodyear, AZ\\n\\n\\n19\\nPalm Coast, FL\\n\\n\\n19\\nPueblo, CO\\n\\n\\n19\\nOdessa, TX\\n\\n\\n20\\nSuffolk, VA\\n\\n\\n20\\nThousand Oaks, CA\\n\\n\\n20\\nTorrance, CA\\n\\n\\n20\\nRedondo Beach, CA\\n\\n\\n20\\nFontana, CA\\n\\n\\n20\\nGrand Prairie, TX\\n\\n\\n20\\nRancho Cucamonga, CA\\n\\n\\n20\\nOntario, CA\\n\\n\\n20\\nUpland, CA\\n\\n\\n21\\nLas Vegas, NV\\n\\n\\n21\\nSunrise Manor, NV\\n\\n\\n21\\nSpring Valley, NV\\n\\n\\n21\\nEnterprise, NV\\n\\n\\n22\\nYakima, WA\\n\\n\\n22\\nOxnard, CA\\n\\n\\n22\\nVentura, CA\\n\\n\\n22\\nFresno, CA\\n\\n\\n22\\nClovis, CA\\n\\n\\n23\\nRedding, CA\\n\\n\\n23\\nJohns Creek, GA\\n\\n\\n23\\nMesa, AZ\\n\\n\\n23\\nBend, OR\\n\\n\\n23\\nSanta Ana, CA\\n\\n\\n23\\nIrvine, CA\\n\\n\\n23\\nOrange, CA\\n\\n\\n23\\nCosta Mesa, CA\\n\\n\\n24\\nMission Viejo, CA\\n\\n\\n24\\nNewport Beach, CA\\n\\n\\n24\\nLake Forest, CA\\n\\n\\n24\\nTustin, CA\\n\\n\\n25\\nParadise, NV\\n\\n\\n25\\nWichita Falls, TX\\n\\n\\n25\\nProvo, UT\\n\\n\\n25\\nOrem, UT\\n\\n\\n25\\nSanta Barbara, CA\\n\\n\\n25\\nChico, CA\\n\\n\\n26\\nHuntington Beach, CA\\n\\n\\n26\\nWestminster, CA\\n\\n\\n26\\nKennewick, WA\\n\\n\\n26\\nRedwood City, CA\\n\\n\\n26\\nMesquite, TX\\n\\n\\n26\\nSan Jose, CA\\n\\n\\n26\\nSanta Clara, CA\\n\\n\\n27\\nMilpitas, CA\\n\\n\\n27\\nCharleston, SC\\n\\n\\n27\\nBeaumont, TX\\n\\n\\n27\\nSilver Spring, MD\\n\\n\\n27\\nFremont, CA\\n\\n\\n28\\nCarlsbad, CA\\n\\n\\n28\\nVista, CA\\n\\n\\n28\\nSan Angelo, TX\\n\\n\\n28\\nSan Marcos, CA\\n\\n\\n28\\nUnion City, CA\\n\\n\\n28\\nHayward, CA\\n\\n\\n29\\nEl Paso, TX\\n\\n\\n29\\nMount Pleasant, SC\\n\\n\\n29\\nFairfield, CA\\n\\n\\n29\\nWest Valley, UT\\n\\n\\n29\\nWest Jordan, UT\\n\\n\\n29\\nSandy, UT\\n\\n\\n30\\nColumbia, SC\\n\\n\\n30\\nHuntsville, AL\\n\\n\\n30\\nBoise, ID\\n\\n\\n30\\nOceanside, CA\\n\\n\\n30\\nLake Charles, LA\\n\\n\\n30\\nFlagstaff, AZ\\n\\n\\n31\\nLehigh Acres, FL\\n\\n\\n31\\nCape Coral, FL\\n\\n\\n31\\nPortsmouth, VA\\n\\n\\n31\\nKearney, NE\\n\\n\\n31\\nGastonia, NC\\n\\n\\n31\\nOgden, UT\\n\\n\\n32\\nSpring Hill, FL\\n\\n\\n32\\nNorman, OK\\n\\n\\n32\\nReno, NV\\n\\n\\n32\\nSparks, NV\\n\\n\\n32\\nAbilene, TX\\n\\n\\n32\\nOrlando, FL\\n\\n\\n32\\nAlafaya, FL\\n\\n\\n33\\nChula Vista, CA\\n\\n\\n33\\nTulsa, OK\\n\\n\\n33\\nBroken Arrow, OK\\n\\n\\n33\\nGreenville, NC\\n\\n\\n33\\nSanta Rosa, CA\\n\\n\\n34\\nDeltona, FL\\n\\n\\n34\\nGermantown, MD\\n\\n\\n34\\nDenton, TX\\n\\n\\n34\\nLaredo, TX\\n\\n\\n34\\nFort Worth, TX\\n\\n\\n34\\nPembroke Pines, FL\\n\\n\\n34\\nMiramar, FL\\n\\n\\n34\\nDavie, FL\\n\\n\\n34\\nWeston, FL\\n\\n\\n35\\nRock Hill, SC\\n\\n\\n35\\nGarland, TX\\n\\n\\n35\\nSan Diego, CA\\n\\n\\n36\\nSanta Clarita, CA\\n\\n\\n36\\nSimi Valley, CA\\n\\n\\n36\\nJoliet, IL\\n\\n\\n36\\nOklahoma City, OK\\n\\n\\n36\\nEdmond, OK\\n\\n\\n36\\nJackson, MS\\n\\n\\n37\\nEdinburg, TX\\n\\n\\n37\\nMcKinney, TX\\n\\n\\n37\\nAllen, TX\\n\\n\\n37\\nCasper, WY\\n\\n\\n37\\nVallejo, CA\\n\\n\\n37\\nNapa, CA\\n\\n\\n38\\nHoover, AL\\n\\n\\n38\\nAugusta, GA\\n\\n\\n38\\nArlington, TX\\n\\n\\n38\\nAlbuquerque, NM\\n\\n\\n38\\nGainesville, FL\\n\\n\\n38\\nHialeah, FL\\n\\n\\n38\\nMiami Gardens, FL\\n\\n\\n39\\nMedford, OR\\n\\n\\n39\\nAlbany, GA\\n\\n\\n39\\nWinston-Salem, NC\\n\\n\\n39\\nIndependence, MO\\n\\n\\n39\\nSalinas, CA\\n\\n\\n40\\nLynchburg, VA\\n\\n\\n40\\nMcAllen, TX\\n\\n\\n40\\nSaint Petersburg, FL\\n\\n\\n40\\nMission, TX\\n\\n\\n40\\nPharr, TX\\n\\n\\n40\\nRock Springs, WY\\n\\n\\n41\\nRochester, MI\\n\\n\\n41\\nSterling Heights, MI\\n\\n\\n41\\nTroy, MI\\n\\n\\n41\\nSouthfield, MI\\n\\n\\n41\\nAthens-Clarke, GA\\n\\n\\n41\\nMacon, GA\\n\\n\\n42\\nShreveport, LA\\n\\n\\n42\\nFort Smith, AR\\n\\n\\n42\\nLakeland, FL\\n\\n\\n42\\nColumbus, GA\\n\\n\\n42\\nClearwater, FL\\n\\n\\n42\\nLargo, FL\\n\\n\\n43\\nAtlanta, GA\\n\\n\\n43\\nSandy Springs, GA\\n\\n\\n43\\nTuscaloosa, AL\\n\\n\\n43\\nAmarillo, TX\\n\\n\\n43\\nPalm Bay, FL\\n\\n\\n43\\nMelbourne, FL\\n\\n\\n44\\nTemple, TX\\n\\n\\n44\\nSanta Maria, CA\\n\\n\\n44\\nMissouri City, TX\\n\\n\\n44\\nOverland Park, KS\\n\\n\\n44\\nKansas City, KS\\n\\n\\n44\\nColorado Springs, CO\\n\\n\\n45\\nHonolulu, HI\\n\\n\\n45\\nPearl City, HI\\n\\n\\n45\\nEast Honolulu, HI\\n\\n\\n45\\nKansas City, MO\\n\\n\\n45\\nTopeka, KS\\n\\n\\n45\\nPlano, TX\\n\\n\\n45\\nFrisco, TX\\n\\n\\n45\\nCarrollton, TX\\n\\n\\n45\\nRichardson, TX\\n\\n\\n46\\nFayetteville, AR\\n\\n\\n46\\nRapid City, SD\\n\\n\\n46\\nDothan, AL\\n\\n\\n47\\nGillette, WY\\n\\n\\n47\\nLongview, TX\\n\\n\\n47\\nPearland, TX\\n\\n\\n47\\nSchenectady, NY\\n\\n\\n47\\nWoonsocket, RI\\n\\n\\n47\\nPawtucket, RI\\n\\n\\n47\\nToms River, NJ\\n\\n\\n48\\nBrookings, SD\\n\\n\\n48\\nFayetteville, NC\\n\\n\\n48\\nGulfport, MS\\n\\n\\n48\\nKendall, FL\\n\\n\\n48\\nLawrence, KS\\n\\n\\n49\\nSugar Land, TX\\n\\n\\n49\\nLincoln, NE\\n\\n\\n49\\nSaint Charles, MO\\n\\n\\n49\\nFrederick, MD\\n\\n\\n49\\nRound Rock, TX\\n\\n\\n49\\nTyler, TX\\n\\n\\n50\\nThe Woodlands, TX\\n\\n\\n50\\nBolingbrook, IL\\n\\n\\n50\\nBrownsville, TX\\n\\n\\n50\\nWaco, TX\\n\\n\\n50\\nJackson, TN\\n\\n\\n50\\nLafayette, LA\\n\\n\\n51\\nWilmington, NC\\n\\n\\n51\\nGrand Island, NE\\n\\n\\n51\\nKilleen, TX\\n\\n\\n51\\nTrenton, NJ\\n\\n\\n51\\nOwensboro, KY\\n\\n\\n51\\nHattiesburg, MS\\n\\n\\n52\\nCarmel, IN\\n\\n\\n52\\nAllentown, PA\\n\\n\\n52\\nLees Summit, MO\\n\\n\\n52\\nSaint Joseph, MO\\n\\n\\n52\\nJonesboro, AR\\n\\n\\n52\\nPocatello, ID\\n\\n\\n53\\nChesapeake, VA\\n\\n\\n53\\nClarksville, TN\\n\\n\\n53\\nBryan, TX\\n\\n\\n53\\nCollege Station, TX\\n\\n\\n53\\nLubbock, TX\\n\\n\\n53\\nLakewood, CO\\n\\n\\n53\\nArvada, CO\\n\\n\\n53\\nWestminster, CO\\n\\n\\n54\\nOlathe, KS\\n\\n\\n54\\nLewiston, ME\\n\\n\\n54\\nAuburn, ME\\n\\n\\n54\\nGreat Falls, MT\\n\\n\\n55\\nMobile, AL\\n\\n\\n55\\nWaukesha, WI\\n\\n\\n55\\nSpringdale, AR\\n\\n\\n55\\nCoral Springs, FL\\n\\n\\n55\\nSunrise, FL\\n\\n\\n55\\nLauderhill, FL\\n\\n\\n56\\nBaytown, TX\\n\\n\\n56\\nPasadena, TX\\n\\n\\n56\\nLeague City, TX\\n\\n\\n56\\nPaterson, NJ\\n\\n\\n56\\nWarner Robins, GA\\n\\n\\n56\\nRoanoke, VA\\n\\n\\n57\\nNewport News, VA\\n\\n\\n57\\nEvansville, IN\\n\\n\\n57\\nLaramie, WY\\n\\n\\n57\\nSioux City, IA\\n\\n\\n57\\nO Fallon, MO\\n\\n\\n57\\nSan Francisco, CA\\n\\n\\n57\\nSan Mateo, CA\\n\\n\\n57\\nDaly City, CA\\n\\n\\n58\\nRochester, MN\\n\\n\\n58\\nLawton, OK\\n\\n\\n58\\nSpokane, WA\\n\\n\\n58\\nSpokane Valley, WA\\n\\n\\n59\\nSavannah, GA\\n\\n\\n59\\nTown 'n' Country, FL\\n\\n\\n59\\nBowling Green, KY\\n\\n\\n59\\nColumbia, MO\\n\\n\\n59\\nSpringfield, IL\\n\\n\\n59\\nNorth Charleston, SC\\n\\n\\n60\\nBozeman, MT\\n\\n\\n60\\nPeoria, IL\\n\\n\\n60\\nBismarck, ND\\n\\n\\n60\\nToledo, OH\\n\\n\\n60\\nIowa City, IA\\n\\n\\n60\\nSan Leandro, CA\\n\\n\\n60\\nAlameda, CA\\n\\n\\n61\\nCheyenne, WY\\n\\n\\n61\\nOakland, CA\\n\\n\\n61\\nBerkeley, CA\\n\\n\\n61\\nRichmond, CA\\n\\n\\n61\\nReading, PA\\n\\n\\n62\\nLafayette, IN\\n\\n\\n62\\nPhiladelphia, PA\\n\\n\\n62\\nButte, MT\\n\\n\\n62\\nPalatine, IL\\n\\n\\n62\\nNashua, NH\\n\\n\\n62\\nArlington Heights, IL\\n\\n\\n62\\nEvanston, IL\\n\\n\\n63\\nSpringfield, MO\\n\\n\\n63\\nIdaho Falls, ID\\n\\n\\n63\\nNewark, DE\\n\\n\\n63\\nBear, DE\\n\\n\\n63\\nMiddletown, DE\\n\\n\\n63\\nWilmington, DE\\n\\n\\n64\\nAberdeen, SD\\n\\n\\n64\\nNew Orleans, LA\\n\\n\\n64\\nMetairie, LA\\n\\n\\n64\\nMontgomery, AL\\n\\n\\n64\\nMurfreesboro, TN\\n\\n\\n65\\nBaton Rouge, LA\\n\\n\\n65\\nDecatur, IL\\n\\n\\n65\\nDavenport, IA\\n\\n\\n65\\nPort Saint Lucie, FL\\n\\n\\n65\\nNew York, NY\\n\\n\\n65\\nJersey City, NJ\\n\\n\\n65\\nUnion City, NJ\\n\\n\\n66\\nHartford, CT\\n\\n\\n66\\nNew Britain, CT\\n\\n\\n66\\nHuntington, WV\\n\\n\\n66\\nVancouver, WA\\n\\n\\n66\\nTallahassee, FL\\n\\n\\n67\\nMissoula, MT\\n\\n\\n67\\nHigh Point, NC\\n\\n\\n67\\nPassaic, NJ\\n\\n\\n67\\nClifton, NJ\\n\\n\\n67\\nGreensboro, NC\\n\\n\\n67\\nCincinnati, OH\\n\\n\\n67\\nCovington, KY\\n\\n\\n68\\nDuluth, MN\\n\\n\\n68\\nBloomington, IN\\n\\n\\n68\\nPompano Beach, FL\\n\\n\\n68\\nDeerfield Beach, FL\\n\\n\\n68\\nParkersburg, WV\\n\\n\\n69\\nBirmingham, AL\\n\\n\\n69\\nDanbury, CT\\n\\n\\n69\\nDetroit, MI\\n\\n\\n69\\nWarren, MI\\n\\n\\n69\\nDearborn, MI\\n\\n\\n69\\nWaterbury, CT\\n\\n\\n70\\nCedar Rapids, IA\\n\\n\\n70\\nLowell, MA\\n\\n\\n70\\nLawrence, MA\\n\\n\\n70\\nAsheville, NC\\n\\n\\n70\\nNew Haven, CT\\n\\n\\n70\\nBrockton, MA\\n\\n\\n70\\nQuincy, MA\\n\\n\\n71\\nColumbus, OH\\n\\n\\n71\\nAurora, IL\\n\\n\\n71\\nNaperville, IL\\n\\n\\n71\\nElgin, IL\\n\\n\\n71\\nBillings, MT\\n\\n\\n72\\nRutland, VT\\n\\n\\n72\\nLexington, KY\\n\\n\\n72\\nNorfolk, VA\\n\\n\\n72\\nFort Lauderdale, FL\\n\\n\\n72\\nHollywood, FL\\n\\n\\n72\\nPlantation, FL\\n\\n\\n73\\nDale City, VA\\n\\n\\n73\\nJacksonville, NC\\n\\n\\n73\\nRenton, WA\\n\\n\\n73\\nChampaign, IL\\n\\n\\n73\\nDover, NH\\n\\n\\n73\\nRochester, NH\\n\\n\\n74\\nCentennial, CO\\n\\n\\n74\\nHighlands Ranch, CO\\n\\n\\n74\\nDenver, CO\\n\\n\\n74\\nManchester, NH\\n\\n\\n74\\nSalt Lake City, UT\\n\\n\\n74\\nAurora, CO\\n\\n\\n75\\nBridgeport, CT\\n\\n\\n75\\nCorpus Christi, TX\\n\\n\\n75\\nRacine, WI\\n\\n\\n75\\nWatertown, SD\\n\\n\\n75\\nHillsboro, OR\\n\\n\\n75\\nBeaverton, OR\\n\\n\\n76\\nJacksonville, FL\\n\\n\\n76\\nKailua, HI\\n\\n\\n76\\nBethlehem, PA\\n\\n\\n76\\nHammond, IN\\n\\n\\n76\\nGary, IN\\n\\n\\n76\\nRoswell, GA\\n\\n\\n77\\nAnn Arbor, MI\\n\\n\\n77\\nChattanooga, TN\\n\\n\\n77\\nMuncie, IN\\n\\n\\n77\\nLayton, UT\\n\\n\\n77\\nOshkosh, WI\\n\\n\\n77\\nKenosha, WI\\n\\n\\n78\\nWaukegan, IL\\n\\n\\n78\\nSalem, OR\\n\\n\\n78\\nMinot, ND\\n\\n\\n78\\nNewton, MA\\n\\n\\n78\\nBiloxi, MS\\n\\n\\n78\\nBloomington, IL\\n\\n\\n79\\nFramingham, MA\\n\\n\\n79\\nWest Fargo, ND\\n\\n\\n79\\nFargo, ND\\n\\n\\n79\\nSioux Falls, SD\\n\\n\\n79\\nSaint Cloud, MN\\n\\n\\n79\\nMiami, FL\\n\\n\\n79\\nMiami Beach, FL\\n\\n\\n80\\nAppleton, WI\\n\\n\\n80\\nAkron, OH\\n\\n\\n80\\nSaint Paul, MN\\n\\n\\n80\\nWaterloo, IA\\n\\n\\n80\\nSeattle, WA\\n\\n\\n80\\nBellevue, WA\\n\\n\\n81\\nHilo, HI\\n\\n\\n81\\nMorgantown, WV\\n\\n\\n81\\nCharlotte, NC\\n\\n\\n81\\nCharleston, WV\\n\\n\\n81\\nWest Palm Beach, FL\\n\\n\\n82\\nDallas, TX\\n\\n\\n82\\nBellevue, NE\\n\\n\\n82\\nFairbanks, AK\\n\\n\\n82\\nWheeling, WV\\n\\n\\n82\\nGreen Bay, WI\\n\\n\\n82\\nEau Claire, WI\\n\\n\\n83\\nKnoxville, TN\\n\\n\\n83\\nMadison, WI\\n\\n\\n83\\nGresham, OR\\n\\n\\n83\\nSan Antonio, TX\\n\\n\\n83\\nOmaha, NE\\n\\n\\n83\\nIrving, TX\\n\\n\\n83\\nLewisville, TX\\n\\n\\n83\\nFlower Mound, TX\\n\\n\\n84\\nMinneapolis, MN\\n\\n\\n84\\nPortland, OR\\n\\n\\n84\\nBrooklyn Park, MN\\n\\n\\n84\\nPlymouth, MN\\n\\n\\n85\\nScranton, PA\\n\\n\\n85\\nHampton, VA\\n\\n\\n85\\nRaleigh, NC\\n\\n\\n85\\nDurham, NC\\n\\n\\n85\\nCary, NC\\n\\n\\n85\\nKalamazoo, MI\\n\\n\\n86\\nNew Bedford, MA\\n\\n\\n86\\nFall River, MA\\n\\n\\n86\\nSouth Bend, IN\\n\\n\\n86\\nEugene, OR\\n\\n\\n86\\nAustin, TX\\n\\n\\n86\\nAnchorage, AK\\n\\n\\n87\\nCleveland, OH\\n\\n\\n87\\nConcord, NH\\n\\n\\n87\\nAtascocita, TX\\n\\n\\n87\\nPittsburgh, PA\\n\\n\\n87\\nTacoma, WA\\n\\n\\n87\\nSouth Portland, ME\\n\\n\\n87\\nPortland, ME\\n\\n\\n88\\nNorwalk, CT\\n\\n\\n88\\nStamford, CT\\n\\n\\n88\\nLittle Rock, AR\\n\\n\\n88\\nWaldorf, MD\\n\\n\\n88\\nKenner, LA\\n\\n\\n89\\nDover, DE\\n\\n\\n89\\nFlint, MI\\n\\n\\n89\\nWichita, KS\\n\\n\\n89\\nHouston, TX\\n\\n\\n89\\nMemphis, TN\\n\\n\\n89\\nSouthaven, MS\\n\\n\\n90\\nBellingham, WA\\n\\n\\n90\\nNashville, TN\\n\\n\\n90\\nSpringfield, MA\\n\\n\\n90\\nEverett, WA\\n\\n\\n90\\nCentreville, VA\\n\\n\\n90\\nRichmond, VA\\n\\n\\n91\\nErie, PA\\n\\n\\n91\\nAlbany, NY\\n\\n\\n91\\nBaltimore, MD\\n\\n\\n91\\nEllicott City, MD\\n\\n\\n91\\nGlen Burnie, MD\\n\\n\\n91\\nGrand Forks, ND\\n\\n\\n92\\nVirginia Beach, VA\\n\\n\\n92\\nLouisville, KY\\n\\n\\n92\\nChicago, IL\\n\\n\\n92\\nCicero, IL\\n\\n\\n92\\nFarmington, MI\\n\\n\\n92\\nAuburn, WA\\n\\n\\n92\\nKent, WA\\n\\n\\n92\\nFederal Way, WA\\n\\n\\n93\\nWashington, DC\\n\\n\\n93\\nArlington, VA\\n\\n\\n93\\nAlexandria, VA\\n\\n\\n93\\nSaint Louis, MO\\n\\n\\n94\\nWestland, MI\\n\\n\\n94\\nMontpelier, VT\\n\\n\\n94\\nBarre, VT\\n\\n\\n94\\nLivonia, MI\\n\\n\\n94\\nDes Moines, IA\\n\\n\\n94\\nDayton, OH\\n\\n\\n95\\nWorcester, MA\\n\\n\\n95\\nCamden, NJ\\n\\n\\n95\\nBloomington, MN\\n\\n\\n95\\nSchaumburg, IL\\n\\n\\n95\\nMilwaukee, WI\\n\\n\\n95\\nWinooski, VT\\n\\n\\n95\\nBurlington, VT\\n\\n\\n96\\nYonkers, NY\\n\\n\\n96\\nNew Rochelle, NY\\n\\n\\n96\\nMount Vernon, NY\\n\\n\\n96\\nBangor, ME\\n\\n\\n96\\nRockford, IL\\n\\n\\n97\\nFort Wayne, IN\\n\\n\\n97\\nLansing, MI\\n\\n\\n97\\nNewark, NJ\\n\\n\\n97\\nElizabeth, NJ\\n\\n\\n97\\nParma, OH\\n\\n\\n97\\nGrand Rapids, MI\\n\\n\\n98\\nBoston, MA\\n\\n\\n98\\nCambridge, MA\\n\\n\\n98\\nLynn, MA\\n\\n\\n98\\nSomerville, MA\\n\\n\\n98\\nWyoming, MI\\n\\n\\n98\\nIndianapolis, IN\\n\\n\\n99\\nProvidence, RI\\n\\n\\n99\\nWarwick, RI\\n\\n\\n99\\nCranston, RI\\n\\n\\n99\\nRochester, NY\\n\\n\\n99\\nCanton, OH\\n\\n\\n99\\nBuffalo, NY\\n\\n\\n99\\nCheektowaga, NY\\n\\n\\n100\\nSyracuse, NY\\n\\n\\n100\\nYoungstown, OH\\n\\n\\n100\\nKetchikan, AK\\n\\n\\n100\\nSitka, AK\\n\\n\\n100\\nJuneau, AK\\n\\n\\n\""
      ]
     },
     "execution_count": 4,
     "metadata": {},
     "output_type": "execute_result"
=======
   "execution_count": 5,
   "metadata": {},
   "outputs": [
    {
     "ename": "IndexError",
     "evalue": "list index out of range",
     "output_type": "error",
     "traceback": [
      "\u001b[1;31m---------------------------------------------------------------------------\u001b[0m",
      "\u001b[1;31mIndexError\u001b[0m                                Traceback (most recent call last)",
      "\u001b[1;32m<ipython-input-5-91334e44e777>\u001b[0m in \u001b[0;36m<module>\u001b[1;34m\u001b[0m\n\u001b[0;32m      1\u001b[0m \u001b[1;31m#testing code\u001b[0m\u001b[1;33m\u001b[0m\u001b[1;33m\u001b[0m\u001b[1;33m\u001b[0m\u001b[0m\n\u001b[0;32m      2\u001b[0m \u001b[0msoup\u001b[0m\u001b[1;33m=\u001b[0m \u001b[0mbs\u001b[0m\u001b[1;33m(\u001b[0m\u001b[0mresponse\u001b[0m\u001b[1;33m.\u001b[0m\u001b[0mtext\u001b[0m\u001b[1;33m,\u001b[0m \u001b[1;34m'lxml'\u001b[0m\u001b[1;33m)\u001b[0m\u001b[1;33m\u001b[0m\u001b[1;33m\u001b[0m\u001b[0m\n\u001b[1;32m----> 3\u001b[1;33m \u001b[0msoup\u001b[0m\u001b[1;33m.\u001b[0m\u001b[0mfind_all\u001b[0m\u001b[1;33m(\u001b[0m\u001b[1;34m'table'\u001b[0m\u001b[1;33m,\u001b[0m \u001b[0mclass_\u001b[0m\u001b[1;33m=\u001b[0m\u001b[1;34m\"cardhub-edu-table climaterank center-aligned\"\u001b[0m\u001b[1;33m)\u001b[0m\u001b[1;33m[\u001b[0m\u001b[1;36m0\u001b[0m\u001b[1;33m]\u001b[0m\u001b[1;33m.\u001b[0m\u001b[0mtext\u001b[0m\u001b[1;33m\u001b[0m\u001b[1;33m\u001b[0m\u001b[0m\n\u001b[0m",
      "\u001b[1;31mIndexError\u001b[0m: list index out of range"
     ]
>>>>>>> c6f58744045275070db1fd192d460af156e1408c
    }
   ],
   "source": [
    "#testing code\n",
    "soup= bs(response.text, 'lxml')\n",
    "soup.find_all('table', class_=\"cardhub-edu-table climaterank center-aligned\")[0].text"
   ]
  },
  {
   "cell_type": "code",
   "execution_count": 6,
   "metadata": {},
   "outputs": [
    {
     "ename": "IndexError",
     "evalue": "list index out of range",
     "output_type": "error",
     "traceback": [
      "\u001b[1;31m---------------------------------------------------------------------------\u001b[0m",
      "\u001b[1;31mIndexError\u001b[0m                                Traceback (most recent call last)",
      "\u001b[1;32m<ipython-input-6-d1a193a67dab>\u001b[0m in \u001b[0;36m<module>\u001b[1;34m\u001b[0m\n\u001b[0;32m      1\u001b[0m \u001b[1;31m#<table class=\"cardhub-edu-table climaterank center-aligned\">\u001b[0m\u001b[1;33m\u001b[0m\u001b[1;33m\u001b[0m\u001b[1;33m\u001b[0m\u001b[0m\n\u001b[1;32m----> 2\u001b[1;33m \u001b[0mxlist\u001b[0m \u001b[1;33m=\u001b[0m \u001b[0msoup\u001b[0m\u001b[1;33m.\u001b[0m\u001b[0mfind_all\u001b[0m\u001b[1;33m(\u001b[0m\u001b[1;34m'table'\u001b[0m\u001b[1;33m,\u001b[0m \u001b[0mclass_\u001b[0m\u001b[1;33m=\u001b[0m\u001b[1;34m\"cardhub-edu-table climaterank center-aligned\"\u001b[0m\u001b[1;33m)\u001b[0m\u001b[1;33m[\u001b[0m\u001b[1;36m0\u001b[0m\u001b[1;33m]\u001b[0m\u001b[1;33m.\u001b[0m\u001b[0mtext\u001b[0m\u001b[1;33m.\u001b[0m\u001b[0mreplace\u001b[0m\u001b[1;33m(\u001b[0m\u001b[1;34m'\\n\\n\\n'\u001b[0m\u001b[1;33m,\u001b[0m\u001b[1;34m'+'\u001b[0m\u001b[1;33m)\u001b[0m\u001b[0;31m\\\u001b[0m\u001b[1;33m\u001b[0m\u001b[1;33m\u001b[0m\u001b[0m\n\u001b[0m\u001b[0;32m      3\u001b[0m \u001b[1;33m.\u001b[0m\u001b[0mreplace\u001b[0m\u001b[1;33m(\u001b[0m\u001b[1;34m'\\n'\u001b[0m\u001b[1;33m,\u001b[0m\u001b[1;34m':'\u001b[0m\u001b[1;33m)\u001b[0m\u001b[1;33m.\u001b[0m\u001b[0msplit\u001b[0m\u001b[1;33m(\u001b[0m\u001b[1;34m'+'\u001b[0m\u001b[1;33m)\u001b[0m\u001b[1;33m\u001b[0m\u001b[1;33m\u001b[0m\u001b[0m\n\u001b[0;32m      4\u001b[0m \u001b[1;33m\u001b[0m\u001b[0m\n\u001b[0;32m      5\u001b[0m \u001b[0mcounter\u001b[0m\u001b[1;33m=\u001b[0m\u001b[1;36m0\u001b[0m\u001b[1;33m\u001b[0m\u001b[1;33m\u001b[0m\u001b[0m\n",
      "\u001b[1;31mIndexError\u001b[0m: list index out of range"
     ]
    }
   ],
   "source": [
    "# Made a list to iterate through\n",
    "xlist = soup.find_all('table', class_=\"cardhub-edu-table climaterank center-aligned\")[0].text.replace('\\n\\n\\n','+')\\\n",
    ".replace('\\n',':').split('+')\n",
    "\n",
    "counter=0\n",
    "datalist=[]\n",
    "for thing in xlist[1:-1]:\n",
    "    Data={}\n",
    "    if counter==0:\n",
    "        x= thing.split(':')\n",
    "        Data['City']=x[2]\n",
    "        Data['Value']=x[1]\n",
    "        counter+=1\n",
    "    else:\n",
    "        x= thing.split(':')\n",
    "        counter+=1\n",
    "        Data['City']=x[1]\n",
    "        Data['Value']=x[0]\n",
    "    datalist.append(Data)\n",
    "print(datalist)\n",
    "    "
   ]
  },
  {
   "cell_type": "code",
   "execution_count": 41,
   "metadata": {},
   "outputs": [
    {
     "name": "stdout",
     "output_type": "stream",
     "text": [
      "1\n"
     ]
    }
   ],
   "source": [
    "print(Data['Roseville, CA'])"
   ]
  },
  {
   "cell_type": "code",
   "execution_count": 68,
   "metadata": {},
   "outputs": [
    {
     "data": {
      "text/html": [
       "<div>\n",
       "<style scoped>\n",
       "    .dataframe tbody tr th:only-of-type {\n",
       "        vertical-align: middle;\n",
       "    }\n",
       "\n",
       "    .dataframe tbody tr th {\n",
       "        vertical-align: top;\n",
       "    }\n",
       "\n",
       "    .dataframe thead th {\n",
       "        text-align: right;\n",
       "    }\n",
       "</style>\n",
       "<table border=\"1\" class=\"dataframe\">\n",
       "  <thead>\n",
       "    <tr style=\"text-align: right;\">\n",
       "      <th></th>\n",
       "      <th>City</th>\n",
       "      <th>Value</th>\n",
       "    </tr>\n",
       "  </thead>\n",
       "  <tbody>\n",
       "    <tr>\n",
       "      <th>0</th>\n",
       "      <td>Arden-Arcade, CA</td>\n",
       "      <td>1</td>\n",
       "    </tr>\n",
       "    <tr>\n",
       "      <th>1</th>\n",
       "      <td>Citrus Heights, CA</td>\n",
       "      <td>1</td>\n",
       "    </tr>\n",
       "    <tr>\n",
       "      <th>2</th>\n",
       "      <td>Roseville, CA</td>\n",
       "      <td>1</td>\n",
       "    </tr>\n",
       "    <tr>\n",
       "      <th>3</th>\n",
       "      <td>Davis, CA</td>\n",
       "      <td>1</td>\n",
       "    </tr>\n",
       "    <tr>\n",
       "      <th>4</th>\n",
       "      <td>Glendale, CA</td>\n",
       "      <td>1</td>\n",
       "    </tr>\n",
       "    <tr>\n",
       "      <th>...</th>\n",
       "      <td>...</td>\n",
       "      <td>...</td>\n",
       "    </tr>\n",
       "    <tr>\n",
       "      <th>595</th>\n",
       "      <td>Syracuse, NY</td>\n",
       "      <td>100</td>\n",
       "    </tr>\n",
       "    <tr>\n",
       "      <th>596</th>\n",
       "      <td>Youngstown, OH</td>\n",
       "      <td>100</td>\n",
       "    </tr>\n",
       "    <tr>\n",
       "      <th>597</th>\n",
       "      <td>Ketchikan, AK</td>\n",
       "      <td>100</td>\n",
       "    </tr>\n",
       "    <tr>\n",
       "      <th>598</th>\n",
       "      <td>Sitka, AK</td>\n",
       "      <td>100</td>\n",
       "    </tr>\n",
       "    <tr>\n",
       "      <th>599</th>\n",
       "      <td>Juneau, AK</td>\n",
       "      <td>100</td>\n",
       "    </tr>\n",
       "  </tbody>\n",
       "</table>\n",
       "<p>600 rows × 2 columns</p>\n",
       "</div>"
      ],
      "text/plain": [
       "                   City Value\n",
       "0      Arden-Arcade, CA     1\n",
       "1    Citrus Heights, CA     1\n",
       "2         Roseville, CA     1\n",
       "3             Davis, CA     1\n",
       "4          Glendale, CA     1\n",
       "..                  ...   ...\n",
       "595        Syracuse, NY   100\n",
       "596      Youngstown, OH   100\n",
       "597       Ketchikan, AK   100\n",
       "598           Sitka, AK   100\n",
       "599          Juneau, AK   100\n",
       "\n",
       "[600 rows x 2 columns]"
      ]
     },
     "execution_count": 68,
     "metadata": {},
     "output_type": "execute_result"
    }
   ],
   "source": [
    "blue=pd.DataFrame(datalist)\n",
    "blue"
   ]
  },
  {
   "cell_type": "code",
   "execution_count": 1,
   "metadata": {},
   "outputs": [
    {
     "ename": "NameError",
     "evalue": "name 'blue' is not defined",
     "output_type": "error",
     "traceback": [
      "\u001b[1;31m---------------------------------------------------------------------------\u001b[0m",
      "\u001b[1;31mNameError\u001b[0m                                 Traceback (most recent call last)",
      "\u001b[1;32m<ipython-input-1-9593dd31109e>\u001b[0m in \u001b[0;36m<module>\u001b[1;34m\u001b[0m\n\u001b[1;32m----> 1\u001b[1;33m \u001b[0mblue\u001b[0m\u001b[1;33m.\u001b[0m\u001b[0mto_csv\u001b[0m\u001b[1;33m(\u001b[0m\u001b[1;34m\"clean/cities.csv\"\u001b[0m\u001b[1;33m,\u001b[0m \u001b[0mindex\u001b[0m\u001b[1;33m=\u001b[0m\u001b[1;32mFalse\u001b[0m\u001b[1;33m,\u001b[0m \u001b[0mheader\u001b[0m\u001b[1;33m=\u001b[0m\u001b[1;32mTrue\u001b[0m\u001b[1;33m)\u001b[0m\u001b[1;33m\u001b[0m\u001b[1;33m\u001b[0m\u001b[0m\n\u001b[0m",
      "\u001b[1;31mNameError\u001b[0m: name 'blue' is not defined"
     ]
    }
   ],
   "source": [
    "blue.to_csv(\"clean/cities.csv\", index=False, header=True)"
   ]
  },
  {
   "cell_type": "code",
   "execution_count": null,
   "metadata": {},
   "outputs": [],
   "source": []
  }
 ],
 "metadata": {
  "kernelspec": {
   "display_name": "Python 3",
   "language": "python",
   "name": "python3"
  },
  "language_info": {
   "codemirror_mode": {
    "name": "ipython",
    "version": 3
   },
   "file_extension": ".py",
   "mimetype": "text/x-python",
   "name": "python",
   "nbconvert_exporter": "python",
   "pygments_lexer": "ipython3",
   "version": "3.7.5"
  }
 },
 "nbformat": 4,
 "nbformat_minor": 4
}
