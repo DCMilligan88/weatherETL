{
 "cells": [
  {
   "cell_type": "code",
   "execution_count": 1,
   "metadata": {},
   "outputs": [],
   "source": [
    "#import dependencies\n",
    "from bs4 import BeautifulSoup as bs\n",
    "import requests\n",
    "import pandas as pd"
   ]
  },
  {
   "cell_type": "code",
   "execution_count": 2,
   "metadata": {},
   "outputs": [],
   "source": [
    "#website we are scraping\n",
    "url='https://wallethub.com/edu/cities-with-the-best-worst-weather/5043/'"
   ]
  },
  {
   "cell_type": "code",
   "execution_count": 3,
   "metadata": {},
   "outputs": [],
   "source": [
    "#getting a response\n",
    "response= requests.get(url)"
   ]
  },
  {
   "cell_type": "code",
   "execution_count": 4,
   "metadata": {},
   "outputs": [
    {
     "data": {
      "text/plain": [
       "\"\\n\\nMild Weather Overall\\nCity\\n\\n\\n\\n1\\nArden-Arcade, CA\\n\\n\\n1\\nCitrus Heights, CA\\n\\n\\n1\\nRoseville, CA\\n\\n\\n1\\nDavis, CA\\n\\n\\n1\\nGlendale, CA\\n\\n\\n1\\nPasadena, CA\\n\\n\\n1\\nBurbank, CA\\n\\n\\n2\\nMenifee, CA\\n\\n\\n2\\nRiverside, CA\\n\\n\\n2\\nJurupa Valley, CA\\n\\n\\n2\\nBakersfield, CA\\n\\n\\n2\\nHesperia, CA\\n\\n\\n3\\nApple Valley, CA\\n\\n\\n3\\nVictorville, CA\\n\\n\\n3\\nScottsdale, AZ\\n\\n\\n3\\nHenderson, NV\\n\\n\\n3\\nIndio, CA\\n\\n\\n3\\nHemet, CA\\n\\n\\n4\\nLas Cruces, NM\\n\\n\\n4\\nNorth Las Vegas, NV\\n\\n\\n4\\nModesto, CA\\n\\n\\n4\\nTurlock, CA\\n\\n\\n4\\nCorona, CA\\n\\n\\n4\\nAnaheim, CA\\n\\n\\n4\\nGarden Grove, CA\\n\\n\\n4\\nFullerton, CA\\n\\n\\n4\\nNorwalk, CA\\n\\n\\n4\\nBuena Park, CA\\n\\n\\n5\\nSaint George, UT\\n\\n\\n5\\nLancaster, CA\\n\\n\\n5\\nPalmdale, CA\\n\\n\\n6\\nLos Angeles, CA\\n\\n\\n6\\nEast Los Angeles, CA\\n\\n\\n6\\nSouth Gate, CA\\n\\n\\n6\\nSan Tan Valley, AZ\\n\\n\\n6\\nRio Rancho, NM\\n\\n\\n7\\nMurrieta, CA\\n\\n\\n7\\nThornton, CO\\n\\n\\n7\\nMerced, CA\\n\\n\\n7\\nPomona, CA\\n\\n\\n7\\nSunnyvale, CA\\n\\n\\n7\\nMountain View, CA\\n\\n\\n8\\nSan Bernardino, CA\\n\\n\\n8\\nRedlands, CA\\n\\n\\n8\\nRialto, CA\\n\\n\\n8\\nLynwood, CA\\n\\n\\n8\\nInglewood, CA\\n\\n\\n8\\nCompton, CA\\n\\n\\n8\\nHawthorne, CA\\n\\n\\n9\\nPleasanton, CA\\n\\n\\n9\\nLivermore, CA\\n\\n\\n9\\nChino, CA\\n\\n\\n9\\nChino Hills, CA\\n\\n\\n9\\nSan Ramon, CA\\n\\n\\n10\\nEl Cajon, CA\\n\\n\\n10\\nVacaville, CA\\n\\n\\n10\\nVisalia, CA\\n\\n\\n10\\nFolsom, CA\\n\\n\\n10\\nElk Grove, CA\\n\\n\\n10\\nRancho Cordova, CA\\n\\n\\n11\\nSacramento, CA\\n\\n\\n11\\nRoswell, NM\\n\\n\\n11\\nStockton, CA\\n\\n\\n11\\nTracy, CA\\n\\n\\n11\\nManteca, CA\\n\\n\\n11\\nYuma, AZ\\n\\n\\n12\\nBoca Raton, FL\\n\\n\\n12\\nBoynton Beach, FL\\n\\n\\n12\\nSurprise, AZ\\n\\n\\n12\\nGlendale, AZ\\n\\n\\n12\\nPeoria, AZ\\n\\n\\n12\\nLongmont, CO\\n\\n\\n13\\nMidland, TX\\n\\n\\n13\\nSanta Monica, CA\\n\\n\\n13\\nBrandon, FL\\n\\n\\n13\\nMoreno Valley, CA\\n\\n\\n13\\nPerris, CA\\n\\n\\n13\\nTemecula, CA\\n\\n\\n14\\nEl Monte, CA\\n\\n\\n14\\nWest Covina, CA\\n\\n\\n14\\nWhittier, CA\\n\\n\\n14\\nAlhambra, CA\\n\\n\\n14\\nBaldwin Park, CA\\n\\n\\n14\\nConcord, CA\\n\\n\\n14\\nAntioch, CA\\n\\n\\n15\\nFort Collins, CO\\n\\n\\n15\\nGreeley, CO\\n\\n\\n15\\nLoveland, CO\\n\\n\\n15\\nLong Beach, CA\\n\\n\\n15\\nDowney, CA\\n\\n\\n16\\nCarson, CA\\n\\n\\n16\\nLakewood, CA\\n\\n\\n16\\nBellflower, CA\\n\\n\\n16\\nNampa, ID\\n\\n\\n16\\nMeridian, ID\\n\\n\\n16\\nFishers, IN\\n\\n\\n17\\nColumbia, MD\\n\\n\\n17\\nTampa, FL\\n\\n\\n17\\nRiverview, FL\\n\\n\\n17\\nSanta Fe, NM\\n\\n\\n17\\nConcord, NC\\n\\n\\n17\\nEscondido, CA\\n\\n\\n18\\nChandler, AZ\\n\\n\\n18\\nGilbert, AZ\\n\\n\\n18\\nTucson, AZ\\n\\n\\n18\\nPhoenix, AZ\\n\\n\\n18\\nTempe, AZ\\n\\n\\n18\\nBoulder, CO\\n\\n\\n18\\nCasas Adobes, AZ\\n\\n\\n19\\nAvondale, AZ\\n\\n\\n19\\nGoodyear, AZ\\n\\n\\n19\\nPalm Coast, FL\\n\\n\\n19\\nPueblo, CO\\n\\n\\n19\\nOdessa, TX\\n\\n\\n20\\nSuffolk, VA\\n\\n\\n20\\nThousand Oaks, CA\\n\\n\\n20\\nTorrance, CA\\n\\n\\n20\\nRedondo Beach, CA\\n\\n\\n20\\nFontana, CA\\n\\n\\n20\\nGrand Prairie, TX\\n\\n\\n20\\nRancho Cucamonga, CA\\n\\n\\n20\\nOntario, CA\\n\\n\\n20\\nUpland, CA\\n\\n\\n21\\nLas Vegas, NV\\n\\n\\n21\\nSunrise Manor, NV\\n\\n\\n21\\nSpring Valley, NV\\n\\n\\n21\\nEnterprise, NV\\n\\n\\n22\\nYakima, WA\\n\\n\\n22\\nOxnard, CA\\n\\n\\n22\\nVentura, CA\\n\\n\\n22\\nFresno, CA\\n\\n\\n22\\nClovis, CA\\n\\n\\n23\\nRedding, CA\\n\\n\\n23\\nJohns Creek, GA\\n\\n\\n23\\nMesa, AZ\\n\\n\\n23\\nBend, OR\\n\\n\\n23\\nSanta Ana, CA\\n\\n\\n23\\nIrvine, CA\\n\\n\\n23\\nOrange, CA\\n\\n\\n23\\nCosta Mesa, CA\\n\\n\\n24\\nMission Viejo, CA\\n\\n\\n24\\nNewport Beach, CA\\n\\n\\n24\\nLake Forest, CA\\n\\n\\n24\\nTustin, CA\\n\\n\\n25\\nParadise, NV\\n\\n\\n25\\nWichita Falls, TX\\n\\n\\n25\\nProvo, UT\\n\\n\\n25\\nOrem, UT\\n\\n\\n25\\nSanta Barbara, CA\\n\\n\\n25\\nChico, CA\\n\\n\\n26\\nHuntington Beach, CA\\n\\n\\n26\\nWestminster, CA\\n\\n\\n26\\nKennewick, WA\\n\\n\\n26\\nRedwood City, CA\\n\\n\\n26\\nMesquite, TX\\n\\n\\n26\\nSan Jose, CA\\n\\n\\n26\\nSanta Clara, CA\\n\\n\\n27\\nMilpitas, CA\\n\\n\\n27\\nCharleston, SC\\n\\n\\n27\\nBeaumont, TX\\n\\n\\n27\\nSilver Spring, MD\\n\\n\\n27\\nFremont, CA\\n\\n\\n28\\nCarlsbad, CA\\n\\n\\n28\\nVista, CA\\n\\n\\n28\\nSan Angelo, TX\\n\\n\\n28\\nSan Marcos, CA\\n\\n\\n28\\nUnion City, CA\\n\\n\\n28\\nHayward, CA\\n\\n\\n29\\nEl Paso, TX\\n\\n\\n29\\nMount Pleasant, SC\\n\\n\\n29\\nFairfield, CA\\n\\n\\n29\\nWest Valley, UT\\n\\n\\n29\\nWest Jordan, UT\\n\\n\\n29\\nSandy, UT\\n\\n\\n30\\nColumbia, SC\\n\\n\\n30\\nHuntsville, AL\\n\\n\\n30\\nBoise, ID\\n\\n\\n30\\nOceanside, CA\\n\\n\\n30\\nLake Charles, LA\\n\\n\\n30\\nFlagstaff, AZ\\n\\n\\n31\\nLehigh Acres, FL\\n\\n\\n31\\nCape Coral, FL\\n\\n\\n31\\nPortsmouth, VA\\n\\n\\n31\\nKearney, NE\\n\\n\\n31\\nGastonia, NC\\n\\n\\n31\\nOgden, UT\\n\\n\\n32\\nSpring Hill, FL\\n\\n\\n32\\nNorman, OK\\n\\n\\n32\\nReno, NV\\n\\n\\n32\\nSparks, NV\\n\\n\\n32\\nAbilene, TX\\n\\n\\n32\\nOrlando, FL\\n\\n\\n32\\nAlafaya, FL\\n\\n\\n33\\nChula Vista, CA\\n\\n\\n33\\nTulsa, OK\\n\\n\\n33\\nBroken Arrow, OK\\n\\n\\n33\\nGreenville, NC\\n\\n\\n33\\nSanta Rosa, CA\\n\\n\\n34\\nDeltona, FL\\n\\n\\n34\\nGermantown, MD\\n\\n\\n34\\nDenton, TX\\n\\n\\n34\\nLaredo, TX\\n\\n\\n34\\nFort Worth, TX\\n\\n\\n34\\nPembroke Pines, FL\\n\\n\\n34\\nMiramar, FL\\n\\n\\n34\\nDavie, FL\\n\\n\\n34\\nWeston, FL\\n\\n\\n35\\nRock Hill, SC\\n\\n\\n35\\nGarland, TX\\n\\n\\n35\\nSan Diego, CA\\n\\n\\n36\\nSanta Clarita, CA\\n\\n\\n36\\nSimi Valley, CA\\n\\n\\n36\\nJoliet, IL\\n\\n\\n36\\nOklahoma City, OK\\n\\n\\n36\\nEdmond, OK\\n\\n\\n36\\nJackson, MS\\n\\n\\n37\\nEdinburg, TX\\n\\n\\n37\\nMcKinney, TX\\n\\n\\n37\\nAllen, TX\\n\\n\\n37\\nCasper, WY\\n\\n\\n37\\nVallejo, CA\\n\\n\\n37\\nNapa, CA\\n\\n\\n38\\nHoover, AL\\n\\n\\n38\\nAugusta, GA\\n\\n\\n38\\nArlington, TX\\n\\n\\n38\\nAlbuquerque, NM\\n\\n\\n38\\nGainesville, FL\\n\\n\\n38\\nHialeah, FL\\n\\n\\n38\\nMiami Gardens, FL\\n\\n\\n39\\nMedford, OR\\n\\n\\n39\\nAlbany, GA\\n\\n\\n39\\nWinston-Salem, NC\\n\\n\\n39\\nIndependence, MO\\n\\n\\n39\\nSalinas, CA\\n\\n\\n40\\nLynchburg, VA\\n\\n\\n40\\nMcAllen, TX\\n\\n\\n40\\nSaint Petersburg, FL\\n\\n\\n40\\nMission, TX\\n\\n\\n40\\nPharr, TX\\n\\n\\n40\\nRock Springs, WY\\n\\n\\n41\\nRochester, MI\\n\\n\\n41\\nSterling Heights, MI\\n\\n\\n41\\nTroy, MI\\n\\n\\n41\\nSouthfield, MI\\n\\n\\n41\\nAthens-Clarke, GA\\n\\n\\n41\\nMacon, GA\\n\\n\\n42\\nShreveport, LA\\n\\n\\n42\\nFort Smith, AR\\n\\n\\n42\\nLakeland, FL\\n\\n\\n42\\nColumbus, GA\\n\\n\\n42\\nClearwater, FL\\n\\n\\n42\\nLargo, FL\\n\\n\\n43\\nAtlanta, GA\\n\\n\\n43\\nSandy Springs, GA\\n\\n\\n43\\nTuscaloosa, AL\\n\\n\\n43\\nAmarillo, TX\\n\\n\\n43\\nPalm Bay, FL\\n\\n\\n43\\nMelbourne, FL\\n\\n\\n44\\nTemple, TX\\n\\n\\n44\\nSanta Maria, CA\\n\\n\\n44\\nMissouri City, TX\\n\\n\\n44\\nOverland Park, KS\\n\\n\\n44\\nKansas City, KS\\n\\n\\n44\\nColorado Springs, CO\\n\\n\\n45\\nHonolulu, HI\\n\\n\\n45\\nPearl City, HI\\n\\n\\n45\\nEast Honolulu, HI\\n\\n\\n45\\nKansas City, MO\\n\\n\\n45\\nTopeka, KS\\n\\n\\n45\\nPlano, TX\\n\\n\\n45\\nFrisco, TX\\n\\n\\n45\\nCarrollton, TX\\n\\n\\n45\\nRichardson, TX\\n\\n\\n46\\nFayetteville, AR\\n\\n\\n46\\nRapid City, SD\\n\\n\\n46\\nDothan, AL\\n\\n\\n47\\nGillette, WY\\n\\n\\n47\\nLongview, TX\\n\\n\\n47\\nPearland, TX\\n\\n\\n47\\nSchenectady, NY\\n\\n\\n47\\nWoonsocket, RI\\n\\n\\n47\\nPawtucket, RI\\n\\n\\n47\\nToms River, NJ\\n\\n\\n48\\nBrookings, SD\\n\\n\\n48\\nFayetteville, NC\\n\\n\\n48\\nGulfport, MS\\n\\n\\n48\\nKendall, FL\\n\\n\\n48\\nLawrence, KS\\n\\n\\n49\\nSugar Land, TX\\n\\n\\n49\\nLincoln, NE\\n\\n\\n49\\nSaint Charles, MO\\n\\n\\n49\\nFrederick, MD\\n\\n\\n49\\nRound Rock, TX\\n\\n\\n49\\nTyler, TX\\n\\n\\n50\\nThe Woodlands, TX\\n\\n\\n50\\nBolingbrook, IL\\n\\n\\n50\\nBrownsville, TX\\n\\n\\n50\\nWaco, TX\\n\\n\\n50\\nJackson, TN\\n\\n\\n50\\nLafayette, LA\\n\\n\\n51\\nWilmington, NC\\n\\n\\n51\\nGrand Island, NE\\n\\n\\n51\\nKilleen, TX\\n\\n\\n51\\nTrenton, NJ\\n\\n\\n51\\nOwensboro, KY\\n\\n\\n51\\nHattiesburg, MS\\n\\n\\n52\\nCarmel, IN\\n\\n\\n52\\nAllentown, PA\\n\\n\\n52\\nLees Summit, MO\\n\\n\\n52\\nSaint Joseph, MO\\n\\n\\n52\\nJonesboro, AR\\n\\n\\n52\\nPocatello, ID\\n\\n\\n53\\nChesapeake, VA\\n\\n\\n53\\nClarksville, TN\\n\\n\\n53\\nBryan, TX\\n\\n\\n53\\nCollege Station, TX\\n\\n\\n53\\nLubbock, TX\\n\\n\\n53\\nLakewood, CO\\n\\n\\n53\\nArvada, CO\\n\\n\\n53\\nWestminster, CO\\n\\n\\n54\\nOlathe, KS\\n\\n\\n54\\nLewiston, ME\\n\\n\\n54\\nAuburn, ME\\n\\n\\n54\\nGreat Falls, MT\\n\\n\\n55\\nMobile, AL\\n\\n\\n55\\nWaukesha, WI\\n\\n\\n55\\nSpringdale, AR\\n\\n\\n55\\nCoral Springs, FL\\n\\n\\n55\\nSunrise, FL\\n\\n\\n55\\nLauderhill, FL\\n\\n\\n56\\nBaytown, TX\\n\\n\\n56\\nPasadena, TX\\n\\n\\n56\\nLeague City, TX\\n\\n\\n56\\nPaterson, NJ\\n\\n\\n56\\nWarner Robins, GA\\n\\n\\n56\\nRoanoke, VA\\n\\n\\n57\\nNewport News, VA\\n\\n\\n57\\nEvansville, IN\\n\\n\\n57\\nLaramie, WY\\n\\n\\n57\\nSioux City, IA\\n\\n\\n57\\nO Fallon, MO\\n\\n\\n57\\nSan Francisco, CA\\n\\n\\n57\\nSan Mateo, CA\\n\\n\\n57\\nDaly City, CA\\n\\n\\n58\\nRochester, MN\\n\\n\\n58\\nLawton, OK\\n\\n\\n58\\nSpokane, WA\\n\\n\\n58\\nSpokane Valley, WA\\n\\n\\n59\\nSavannah, GA\\n\\n\\n59\\nTown 'n' Country, FL\\n\\n\\n59\\nBowling Green, KY\\n\\n\\n59\\nColumbia, MO\\n\\n\\n59\\nSpringfield, IL\\n\\n\\n59\\nNorth Charleston, SC\\n\\n\\n60\\nBozeman, MT\\n\\n\\n60\\nPeoria, IL\\n\\n\\n60\\nBismarck, ND\\n\\n\\n60\\nToledo, OH\\n\\n\\n60\\nIowa City, IA\\n\\n\\n60\\nSan Leandro, CA\\n\\n\\n60\\nAlameda, CA\\n\\n\\n61\\nCheyenne, WY\\n\\n\\n61\\nOakland, CA\\n\\n\\n61\\nBerkeley, CA\\n\\n\\n61\\nRichmond, CA\\n\\n\\n61\\nReading, PA\\n\\n\\n62\\nLafayette, IN\\n\\n\\n62\\nPhiladelphia, PA\\n\\n\\n62\\nButte, MT\\n\\n\\n62\\nPalatine, IL\\n\\n\\n62\\nNashua, NH\\n\\n\\n62\\nArlington Heights, IL\\n\\n\\n62\\nEvanston, IL\\n\\n\\n63\\nSpringfield, MO\\n\\n\\n63\\nIdaho Falls, ID\\n\\n\\n63\\nNewark, DE\\n\\n\\n63\\nBear, DE\\n\\n\\n63\\nMiddletown, DE\\n\\n\\n63\\nWilmington, DE\\n\\n\\n64\\nAberdeen, SD\\n\\n\\n64\\nNew Orleans, LA\\n\\n\\n64\\nMetairie, LA\\n\\n\\n64\\nMontgomery, AL\\n\\n\\n64\\nMurfreesboro, TN\\n\\n\\n65\\nBaton Rouge, LA\\n\\n\\n65\\nDecatur, IL\\n\\n\\n65\\nDavenport, IA\\n\\n\\n65\\nPort Saint Lucie, FL\\n\\n\\n65\\nNew York, NY\\n\\n\\n65\\nJersey City, NJ\\n\\n\\n65\\nUnion City, NJ\\n\\n\\n66\\nHartford, CT\\n\\n\\n66\\nNew Britain, CT\\n\\n\\n66\\nHuntington, WV\\n\\n\\n66\\nVancouver, WA\\n\\n\\n66\\nTallahassee, FL\\n\\n\\n67\\nMissoula, MT\\n\\n\\n67\\nHigh Point, NC\\n\\n\\n67\\nPassaic, NJ\\n\\n\\n67\\nClifton, NJ\\n\\n\\n67\\nGreensboro, NC\\n\\n\\n67\\nCincinnati, OH\\n\\n\\n67\\nCovington, KY\\n\\n\\n68\\nDuluth, MN\\n\\n\\n68\\nBloomington, IN\\n\\n\\n68\\nPompano Beach, FL\\n\\n\\n68\\nDeerfield Beach, FL\\n\\n\\n68\\nParkersburg, WV\\n\\n\\n69\\nBirmingham, AL\\n\\n\\n69\\nDanbury, CT\\n\\n\\n69\\nDetroit, MI\\n\\n\\n69\\nWarren, MI\\n\\n\\n69\\nDearborn, MI\\n\\n\\n69\\nWaterbury, CT\\n\\n\\n70\\nCedar Rapids, IA\\n\\n\\n70\\nLowell, MA\\n\\n\\n70\\nLawrence, MA\\n\\n\\n70\\nAsheville, NC\\n\\n\\n70\\nNew Haven, CT\\n\\n\\n70\\nBrockton, MA\\n\\n\\n70\\nQuincy, MA\\n\\n\\n71\\nColumbus, OH\\n\\n\\n71\\nAurora, IL\\n\\n\\n71\\nNaperville, IL\\n\\n\\n71\\nElgin, IL\\n\\n\\n71\\nBillings, MT\\n\\n\\n72\\nRutland, VT\\n\\n\\n72\\nLexington, KY\\n\\n\\n72\\nNorfolk, VA\\n\\n\\n72\\nFort Lauderdale, FL\\n\\n\\n72\\nHollywood, FL\\n\\n\\n72\\nPlantation, FL\\n\\n\\n73\\nDale City, VA\\n\\n\\n73\\nJacksonville, NC\\n\\n\\n73\\nRenton, WA\\n\\n\\n73\\nChampaign, IL\\n\\n\\n73\\nDover, NH\\n\\n\\n73\\nRochester, NH\\n\\n\\n74\\nCentennial, CO\\n\\n\\n74\\nHighlands Ranch, CO\\n\\n\\n74\\nDenver, CO\\n\\n\\n74\\nManchester, NH\\n\\n\\n74\\nSalt Lake City, UT\\n\\n\\n74\\nAurora, CO\\n\\n\\n75\\nBridgeport, CT\\n\\n\\n75\\nCorpus Christi, TX\\n\\n\\n75\\nRacine, WI\\n\\n\\n75\\nWatertown, SD\\n\\n\\n75\\nHillsboro, OR\\n\\n\\n75\\nBeaverton, OR\\n\\n\\n76\\nJacksonville, FL\\n\\n\\n76\\nKailua, HI\\n\\n\\n76\\nBethlehem, PA\\n\\n\\n76\\nHammond, IN\\n\\n\\n76\\nGary, IN\\n\\n\\n76\\nRoswell, GA\\n\\n\\n77\\nAnn Arbor, MI\\n\\n\\n77\\nChattanooga, TN\\n\\n\\n77\\nMuncie, IN\\n\\n\\n77\\nLayton, UT\\n\\n\\n77\\nOshkosh, WI\\n\\n\\n77\\nKenosha, WI\\n\\n\\n78\\nWaukegan, IL\\n\\n\\n78\\nSalem, OR\\n\\n\\n78\\nMinot, ND\\n\\n\\n78\\nNewton, MA\\n\\n\\n78\\nBiloxi, MS\\n\\n\\n78\\nBloomington, IL\\n\\n\\n79\\nFramingham, MA\\n\\n\\n79\\nWest Fargo, ND\\n\\n\\n79\\nFargo, ND\\n\\n\\n79\\nSioux Falls, SD\\n\\n\\n79\\nSaint Cloud, MN\\n\\n\\n79\\nMiami, FL\\n\\n\\n79\\nMiami Beach, FL\\n\\n\\n80\\nAppleton, WI\\n\\n\\n80\\nAkron, OH\\n\\n\\n80\\nSaint Paul, MN\\n\\n\\n80\\nWaterloo, IA\\n\\n\\n80\\nSeattle, WA\\n\\n\\n80\\nBellevue, WA\\n\\n\\n81\\nHilo, HI\\n\\n\\n81\\nMorgantown, WV\\n\\n\\n81\\nCharlotte, NC\\n\\n\\n81\\nCharleston, WV\\n\\n\\n81\\nWest Palm Beach, FL\\n\\n\\n82\\nDallas, TX\\n\\n\\n82\\nBellevue, NE\\n\\n\\n82\\nFairbanks, AK\\n\\n\\n82\\nWheeling, WV\\n\\n\\n82\\nGreen Bay, WI\\n\\n\\n82\\nEau Claire, WI\\n\\n\\n83\\nKnoxville, TN\\n\\n\\n83\\nMadison, WI\\n\\n\\n83\\nGresham, OR\\n\\n\\n83\\nSan Antonio, TX\\n\\n\\n83\\nOmaha, NE\\n\\n\\n83\\nIrving, TX\\n\\n\\n83\\nLewisville, TX\\n\\n\\n83\\nFlower Mound, TX\\n\\n\\n84\\nMinneapolis, MN\\n\\n\\n84\\nPortland, OR\\n\\n\\n84\\nBrooklyn Park, MN\\n\\n\\n84\\nPlymouth, MN\\n\\n\\n85\\nScranton, PA\\n\\n\\n85\\nHampton, VA\\n\\n\\n85\\nRaleigh, NC\\n\\n\\n85\\nDurham, NC\\n\\n\\n85\\nCary, NC\\n\\n\\n85\\nKalamazoo, MI\\n\\n\\n86\\nNew Bedford, MA\\n\\n\\n86\\nFall River, MA\\n\\n\\n86\\nSouth Bend, IN\\n\\n\\n86\\nEugene, OR\\n\\n\\n86\\nAustin, TX\\n\\n\\n86\\nAnchorage, AK\\n\\n\\n87\\nCleveland, OH\\n\\n\\n87\\nConcord, NH\\n\\n\\n87\\nAtascocita, TX\\n\\n\\n87\\nPittsburgh, PA\\n\\n\\n87\\nTacoma, WA\\n\\n\\n87\\nSouth Portland, ME\\n\\n\\n87\\nPortland, ME\\n\\n\\n88\\nNorwalk, CT\\n\\n\\n88\\nStamford, CT\\n\\n\\n88\\nLittle Rock, AR\\n\\n\\n88\\nWaldorf, MD\\n\\n\\n88\\nKenner, LA\\n\\n\\n89\\nDover, DE\\n\\n\\n89\\nFlint, MI\\n\\n\\n89\\nWichita, KS\\n\\n\\n89\\nHouston, TX\\n\\n\\n89\\nMemphis, TN\\n\\n\\n89\\nSouthaven, MS\\n\\n\\n90\\nBellingham, WA\\n\\n\\n90\\nNashville, TN\\n\\n\\n90\\nSpringfield, MA\\n\\n\\n90\\nEverett, WA\\n\\n\\n90\\nCentreville, VA\\n\\n\\n90\\nRichmond, VA\\n\\n\\n91\\nErie, PA\\n\\n\\n91\\nAlbany, NY\\n\\n\\n91\\nBaltimore, MD\\n\\n\\n91\\nEllicott City, MD\\n\\n\\n91\\nGlen Burnie, MD\\n\\n\\n91\\nGrand Forks, ND\\n\\n\\n92\\nVirginia Beach, VA\\n\\n\\n92\\nLouisville, KY\\n\\n\\n92\\nChicago, IL\\n\\n\\n92\\nCicero, IL\\n\\n\\n92\\nFarmington, MI\\n\\n\\n92\\nAuburn, WA\\n\\n\\n92\\nKent, WA\\n\\n\\n92\\nFederal Way, WA\\n\\n\\n93\\nWashington, DC\\n\\n\\n93\\nArlington, VA\\n\\n\\n93\\nAlexandria, VA\\n\\n\\n93\\nSaint Louis, MO\\n\\n\\n94\\nWestland, MI\\n\\n\\n94\\nMontpelier, VT\\n\\n\\n94\\nBarre, VT\\n\\n\\n94\\nLivonia, MI\\n\\n\\n94\\nDes Moines, IA\\n\\n\\n94\\nDayton, OH\\n\\n\\n95\\nWorcester, MA\\n\\n\\n95\\nCamden, NJ\\n\\n\\n95\\nBloomington, MN\\n\\n\\n95\\nSchaumburg, IL\\n\\n\\n95\\nMilwaukee, WI\\n\\n\\n95\\nWinooski, VT\\n\\n\\n95\\nBurlington, VT\\n\\n\\n96\\nYonkers, NY\\n\\n\\n96\\nNew Rochelle, NY\\n\\n\\n96\\nMount Vernon, NY\\n\\n\\n96\\nBangor, ME\\n\\n\\n96\\nRockford, IL\\n\\n\\n97\\nFort Wayne, IN\\n\\n\\n97\\nLansing, MI\\n\\n\\n97\\nNewark, NJ\\n\\n\\n97\\nElizabeth, NJ\\n\\n\\n97\\nParma, OH\\n\\n\\n97\\nGrand Rapids, MI\\n\\n\\n98\\nBoston, MA\\n\\n\\n98\\nCambridge, MA\\n\\n\\n98\\nLynn, MA\\n\\n\\n98\\nSomerville, MA\\n\\n\\n98\\nWyoming, MI\\n\\n\\n98\\nIndianapolis, IN\\n\\n\\n99\\nProvidence, RI\\n\\n\\n99\\nWarwick, RI\\n\\n\\n99\\nCranston, RI\\n\\n\\n99\\nRochester, NY\\n\\n\\n99\\nCanton, OH\\n\\n\\n99\\nBuffalo, NY\\n\\n\\n99\\nCheektowaga, NY\\n\\n\\n100\\nSyracuse, NY\\n\\n\\n100\\nYoungstown, OH\\n\\n\\n100\\nKetchikan, AK\\n\\n\\n100\\nSitka, AK\\n\\n\\n100\\nJuneau, AK\\n\\n\\n\""
      ]
     },
     "execution_count": 4,
     "metadata": {},
     "output_type": "execute_result"
    }
   ],
   "source": [
    "#testing code\n",
    "soup= bs(response.text, 'lxml')\n",
    "soup.find_all('table', class_=\"cardhub-edu-table climaterank center-aligned\")[0].text"
   ]
  },
  {
   "cell_type": "code",
   "execution_count": 63,
   "metadata": {},
   "outputs": [
    {
     "name": "stdout",
     "output_type": "stream",
     "text": [
      "[{'City': 'Arden-Arcade, CA', 'Value': '1'}, {'City': 'Citrus Heights, CA', 'Value': '1'}, {'City': 'Roseville, CA', 'Value': '1'}, {'City': 'Davis, CA', 'Value': '1'}, {'City': 'Glendale, CA', 'Value': '1'}, {'City': 'Pasadena, CA', 'Value': '1'}, {'City': 'Burbank, CA', 'Value': '1'}, {'City': 'Menifee, CA', 'Value': '2'}, {'City': 'Riverside, CA', 'Value': '2'}, {'City': 'Jurupa Valley, CA', 'Value': '2'}, {'City': 'Bakersfield, CA', 'Value': '2'}, {'City': 'Hesperia, CA', 'Value': '2'}, {'City': 'Apple Valley, CA', 'Value': '3'}, {'City': 'Victorville, CA', 'Value': '3'}, {'City': 'Scottsdale, AZ', 'Value': '3'}, {'City': 'Henderson, NV', 'Value': '3'}, {'City': 'Indio, CA', 'Value': '3'}, {'City': 'Hemet, CA', 'Value': '3'}, {'City': 'Las Cruces, NM', 'Value': '4'}, {'City': 'North Las Vegas, NV', 'Value': '4'}, {'City': 'Modesto, CA', 'Value': '4'}, {'City': 'Turlock, CA', 'Value': '4'}, {'City': 'Corona, CA', 'Value': '4'}, {'City': 'Anaheim, CA', 'Value': '4'}, {'City': 'Garden Grove, CA', 'Value': '4'}, {'City': 'Fullerton, CA', 'Value': '4'}, {'City': 'Norwalk, CA', 'Value': '4'}, {'City': 'Buena Park, CA', 'Value': '4'}, {'City': 'Saint George, UT', 'Value': '5'}, {'City': 'Lancaster, CA', 'Value': '5'}, {'City': 'Palmdale, CA', 'Value': '5'}, {'City': 'Los Angeles, CA', 'Value': '6'}, {'City': 'East Los Angeles, CA', 'Value': '6'}, {'City': 'South Gate, CA', 'Value': '6'}, {'City': 'San Tan Valley, AZ', 'Value': '6'}, {'City': 'Rio Rancho, NM', 'Value': '6'}, {'City': 'Murrieta, CA', 'Value': '7'}, {'City': 'Thornton, CO', 'Value': '7'}, {'City': 'Merced, CA', 'Value': '7'}, {'City': 'Pomona, CA', 'Value': '7'}, {'City': 'Sunnyvale, CA', 'Value': '7'}, {'City': 'Mountain View, CA', 'Value': '7'}, {'City': 'San Bernardino, CA', 'Value': '8'}, {'City': 'Redlands, CA', 'Value': '8'}, {'City': 'Rialto, CA', 'Value': '8'}, {'City': 'Lynwood, CA', 'Value': '8'}, {'City': 'Inglewood, CA', 'Value': '8'}, {'City': 'Compton, CA', 'Value': '8'}, {'City': 'Hawthorne, CA', 'Value': '8'}, {'City': 'Pleasanton, CA', 'Value': '9'}, {'City': 'Livermore, CA', 'Value': '9'}, {'City': 'Chino, CA', 'Value': '9'}, {'City': 'Chino Hills, CA', 'Value': '9'}, {'City': 'San Ramon, CA', 'Value': '9'}, {'City': 'El Cajon, CA', 'Value': '10'}, {'City': 'Vacaville, CA', 'Value': '10'}, {'City': 'Visalia, CA', 'Value': '10'}, {'City': 'Folsom, CA', 'Value': '10'}, {'City': 'Elk Grove, CA', 'Value': '10'}, {'City': 'Rancho Cordova, CA', 'Value': '10'}, {'City': 'Sacramento, CA', 'Value': '11'}, {'City': 'Roswell, NM', 'Value': '11'}, {'City': 'Stockton, CA', 'Value': '11'}, {'City': 'Tracy, CA', 'Value': '11'}, {'City': 'Manteca, CA', 'Value': '11'}, {'City': 'Yuma, AZ', 'Value': '11'}, {'City': 'Boca Raton, FL', 'Value': '12'}, {'City': 'Boynton Beach, FL', 'Value': '12'}, {'City': 'Surprise, AZ', 'Value': '12'}, {'City': 'Glendale, AZ', 'Value': '12'}, {'City': 'Peoria, AZ', 'Value': '12'}, {'City': 'Longmont, CO', 'Value': '12'}, {'City': 'Midland, TX', 'Value': '13'}, {'City': 'Santa Monica, CA', 'Value': '13'}, {'City': 'Brandon, FL', 'Value': '13'}, {'City': 'Moreno Valley, CA', 'Value': '13'}, {'City': 'Perris, CA', 'Value': '13'}, {'City': 'Temecula, CA', 'Value': '13'}, {'City': 'El Monte, CA', 'Value': '14'}, {'City': 'West Covina, CA', 'Value': '14'}, {'City': 'Whittier, CA', 'Value': '14'}, {'City': 'Alhambra, CA', 'Value': '14'}, {'City': 'Baldwin Park, CA', 'Value': '14'}, {'City': 'Concord, CA', 'Value': '14'}, {'City': 'Antioch, CA', 'Value': '14'}, {'City': 'Fort Collins, CO', 'Value': '15'}, {'City': 'Greeley, CO', 'Value': '15'}, {'City': 'Loveland, CO', 'Value': '15'}, {'City': 'Long Beach, CA', 'Value': '15'}, {'City': 'Downey, CA', 'Value': '15'}, {'City': 'Carson, CA', 'Value': '16'}, {'City': 'Lakewood, CA', 'Value': '16'}, {'City': 'Bellflower, CA', 'Value': '16'}, {'City': 'Nampa, ID', 'Value': '16'}, {'City': 'Meridian, ID', 'Value': '16'}, {'City': 'Fishers, IN', 'Value': '16'}, {'City': 'Columbia, MD', 'Value': '17'}, {'City': 'Tampa, FL', 'Value': '17'}, {'City': 'Riverview, FL', 'Value': '17'}, {'City': 'Santa Fe, NM', 'Value': '17'}, {'City': 'Concord, NC', 'Value': '17'}, {'City': 'Escondido, CA', 'Value': '17'}, {'City': 'Chandler, AZ', 'Value': '18'}, {'City': 'Gilbert, AZ', 'Value': '18'}, {'City': 'Tucson, AZ', 'Value': '18'}, {'City': 'Phoenix, AZ', 'Value': '18'}, {'City': 'Tempe, AZ', 'Value': '18'}, {'City': 'Boulder, CO', 'Value': '18'}, {'City': 'Casas Adobes, AZ', 'Value': '18'}, {'City': 'Avondale, AZ', 'Value': '19'}, {'City': 'Goodyear, AZ', 'Value': '19'}, {'City': 'Palm Coast, FL', 'Value': '19'}, {'City': 'Pueblo, CO', 'Value': '19'}, {'City': 'Odessa, TX', 'Value': '19'}, {'City': 'Suffolk, VA', 'Value': '20'}, {'City': 'Thousand Oaks, CA', 'Value': '20'}, {'City': 'Torrance, CA', 'Value': '20'}, {'City': 'Redondo Beach, CA', 'Value': '20'}, {'City': 'Fontana, CA', 'Value': '20'}, {'City': 'Grand Prairie, TX', 'Value': '20'}, {'City': 'Rancho Cucamonga, CA', 'Value': '20'}, {'City': 'Ontario, CA', 'Value': '20'}, {'City': 'Upland, CA', 'Value': '20'}, {'City': 'Las Vegas, NV', 'Value': '21'}, {'City': 'Sunrise Manor, NV', 'Value': '21'}, {'City': 'Spring Valley, NV', 'Value': '21'}, {'City': 'Enterprise, NV', 'Value': '21'}, {'City': 'Yakima, WA', 'Value': '22'}, {'City': 'Oxnard, CA', 'Value': '22'}, {'City': 'Ventura, CA', 'Value': '22'}, {'City': 'Fresno, CA', 'Value': '22'}, {'City': 'Clovis, CA', 'Value': '22'}, {'City': 'Redding, CA', 'Value': '23'}, {'City': 'Johns Creek, GA', 'Value': '23'}, {'City': 'Mesa, AZ', 'Value': '23'}, {'City': 'Bend, OR', 'Value': '23'}, {'City': 'Santa Ana, CA', 'Value': '23'}, {'City': 'Irvine, CA', 'Value': '23'}, {'City': 'Orange, CA', 'Value': '23'}, {'City': 'Costa Mesa, CA', 'Value': '23'}, {'City': 'Mission Viejo, CA', 'Value': '24'}, {'City': 'Newport Beach, CA', 'Value': '24'}, {'City': 'Lake Forest, CA', 'Value': '24'}, {'City': 'Tustin, CA', 'Value': '24'}, {'City': 'Paradise, NV', 'Value': '25'}, {'City': 'Wichita Falls, TX', 'Value': '25'}, {'City': 'Provo, UT', 'Value': '25'}, {'City': 'Orem, UT', 'Value': '25'}, {'City': 'Santa Barbara, CA', 'Value': '25'}, {'City': 'Chico, CA', 'Value': '25'}, {'City': 'Huntington Beach, CA', 'Value': '26'}, {'City': 'Westminster, CA', 'Value': '26'}, {'City': 'Kennewick, WA', 'Value': '26'}, {'City': 'Redwood City, CA', 'Value': '26'}, {'City': 'Mesquite, TX', 'Value': '26'}, {'City': 'San Jose, CA', 'Value': '26'}, {'City': 'Santa Clara, CA', 'Value': '26'}, {'City': 'Milpitas, CA', 'Value': '27'}, {'City': 'Charleston, SC', 'Value': '27'}, {'City': 'Beaumont, TX', 'Value': '27'}, {'City': 'Silver Spring, MD', 'Value': '27'}, {'City': 'Fremont, CA', 'Value': '27'}, {'City': 'Carlsbad, CA', 'Value': '28'}, {'City': 'Vista, CA', 'Value': '28'}, {'City': 'San Angelo, TX', 'Value': '28'}, {'City': 'San Marcos, CA', 'Value': '28'}, {'City': 'Union City, CA', 'Value': '28'}, {'City': 'Hayward, CA', 'Value': '28'}, {'City': 'El Paso, TX', 'Value': '29'}, {'City': 'Mount Pleasant, SC', 'Value': '29'}, {'City': 'Fairfield, CA', 'Value': '29'}, {'City': 'West Valley, UT', 'Value': '29'}, {'City': 'West Jordan, UT', 'Value': '29'}, {'City': 'Sandy, UT', 'Value': '29'}, {'City': 'Columbia, SC', 'Value': '30'}, {'City': 'Huntsville, AL', 'Value': '30'}, {'City': 'Boise, ID', 'Value': '30'}, {'City': 'Oceanside, CA', 'Value': '30'}, {'City': 'Lake Charles, LA', 'Value': '30'}, {'City': 'Flagstaff, AZ', 'Value': '30'}, {'City': 'Lehigh Acres, FL', 'Value': '31'}, {'City': 'Cape Coral, FL', 'Value': '31'}, {'City': 'Portsmouth, VA', 'Value': '31'}, {'City': 'Kearney, NE', 'Value': '31'}, {'City': 'Gastonia, NC', 'Value': '31'}, {'City': 'Ogden, UT', 'Value': '31'}, {'City': 'Spring Hill, FL', 'Value': '32'}, {'City': 'Norman, OK', 'Value': '32'}, {'City': 'Reno, NV', 'Value': '32'}, {'City': 'Sparks, NV', 'Value': '32'}, {'City': 'Abilene, TX', 'Value': '32'}, {'City': 'Orlando, FL', 'Value': '32'}, {'City': 'Alafaya, FL', 'Value': '32'}, {'City': 'Chula Vista, CA', 'Value': '33'}, {'City': 'Tulsa, OK', 'Value': '33'}, {'City': 'Broken Arrow, OK', 'Value': '33'}, {'City': 'Greenville, NC', 'Value': '33'}, {'City': 'Santa Rosa, CA', 'Value': '33'}, {'City': 'Deltona, FL', 'Value': '34'}, {'City': 'Germantown, MD', 'Value': '34'}, {'City': 'Denton, TX', 'Value': '34'}, {'City': 'Laredo, TX', 'Value': '34'}, {'City': 'Fort Worth, TX', 'Value': '34'}, {'City': 'Pembroke Pines, FL', 'Value': '34'}, {'City': 'Miramar, FL', 'Value': '34'}, {'City': 'Davie, FL', 'Value': '34'}, {'City': 'Weston, FL', 'Value': '34'}, {'City': 'Rock Hill, SC', 'Value': '35'}, {'City': 'Garland, TX', 'Value': '35'}, {'City': 'San Diego, CA', 'Value': '35'}, {'City': 'Santa Clarita, CA', 'Value': '36'}, {'City': 'Simi Valley, CA', 'Value': '36'}, {'City': 'Joliet, IL', 'Value': '36'}, {'City': 'Oklahoma City, OK', 'Value': '36'}, {'City': 'Edmond, OK', 'Value': '36'}, {'City': 'Jackson, MS', 'Value': '36'}, {'City': 'Edinburg, TX', 'Value': '37'}, {'City': 'McKinney, TX', 'Value': '37'}, {'City': 'Allen, TX', 'Value': '37'}, {'City': 'Casper, WY', 'Value': '37'}, {'City': 'Vallejo, CA', 'Value': '37'}, {'City': 'Napa, CA', 'Value': '37'}, {'City': 'Hoover, AL', 'Value': '38'}, {'City': 'Augusta, GA', 'Value': '38'}, {'City': 'Arlington, TX', 'Value': '38'}, {'City': 'Albuquerque, NM', 'Value': '38'}, {'City': 'Gainesville, FL', 'Value': '38'}, {'City': 'Hialeah, FL', 'Value': '38'}, {'City': 'Miami Gardens, FL', 'Value': '38'}, {'City': 'Medford, OR', 'Value': '39'}, {'City': 'Albany, GA', 'Value': '39'}, {'City': 'Winston-Salem, NC', 'Value': '39'}, {'City': 'Independence, MO', 'Value': '39'}, {'City': 'Salinas, CA', 'Value': '39'}, {'City': 'Lynchburg, VA', 'Value': '40'}, {'City': 'McAllen, TX', 'Value': '40'}, {'City': 'Saint Petersburg, FL', 'Value': '40'}, {'City': 'Mission, TX', 'Value': '40'}, {'City': 'Pharr, TX', 'Value': '40'}, {'City': 'Rock Springs, WY', 'Value': '40'}, {'City': 'Rochester, MI', 'Value': '41'}, {'City': 'Sterling Heights, MI', 'Value': '41'}, {'City': 'Troy, MI', 'Value': '41'}, {'City': 'Southfield, MI', 'Value': '41'}, {'City': 'Athens-Clarke, GA', 'Value': '41'}, {'City': 'Macon, GA', 'Value': '41'}, {'City': 'Shreveport, LA', 'Value': '42'}, {'City': 'Fort Smith, AR', 'Value': '42'}, {'City': 'Lakeland, FL', 'Value': '42'}, {'City': 'Columbus, GA', 'Value': '42'}, {'City': 'Clearwater, FL', 'Value': '42'}, {'City': 'Largo, FL', 'Value': '42'}, {'City': 'Atlanta, GA', 'Value': '43'}, {'City': 'Sandy Springs, GA', 'Value': '43'}, {'City': 'Tuscaloosa, AL', 'Value': '43'}, {'City': 'Amarillo, TX', 'Value': '43'}, {'City': 'Palm Bay, FL', 'Value': '43'}, {'City': 'Melbourne, FL', 'Value': '43'}, {'City': 'Temple, TX', 'Value': '44'}, {'City': 'Santa Maria, CA', 'Value': '44'}, {'City': 'Missouri City, TX', 'Value': '44'}, {'City': 'Overland Park, KS', 'Value': '44'}, {'City': 'Kansas City, KS', 'Value': '44'}, {'City': 'Colorado Springs, CO', 'Value': '44'}, {'City': 'Honolulu, HI', 'Value': '45'}, {'City': 'Pearl City, HI', 'Value': '45'}, {'City': 'East Honolulu, HI', 'Value': '45'}, {'City': 'Kansas City, MO', 'Value': '45'}, {'City': 'Topeka, KS', 'Value': '45'}, {'City': 'Plano, TX', 'Value': '45'}, {'City': 'Frisco, TX', 'Value': '45'}, {'City': 'Carrollton, TX', 'Value': '45'}, {'City': 'Richardson, TX', 'Value': '45'}, {'City': 'Fayetteville, AR', 'Value': '46'}, {'City': 'Rapid City, SD', 'Value': '46'}, {'City': 'Dothan, AL', 'Value': '46'}, {'City': 'Gillette, WY', 'Value': '47'}, {'City': 'Longview, TX', 'Value': '47'}, {'City': 'Pearland, TX', 'Value': '47'}, {'City': 'Schenectady, NY', 'Value': '47'}, {'City': 'Woonsocket, RI', 'Value': '47'}, {'City': 'Pawtucket, RI', 'Value': '47'}, {'City': 'Toms River, NJ', 'Value': '47'}, {'City': 'Brookings, SD', 'Value': '48'}, {'City': 'Fayetteville, NC', 'Value': '48'}, {'City': 'Gulfport, MS', 'Value': '48'}, {'City': 'Kendall, FL', 'Value': '48'}, {'City': 'Lawrence, KS', 'Value': '48'}, {'City': 'Sugar Land, TX', 'Value': '49'}, {'City': 'Lincoln, NE', 'Value': '49'}, {'City': 'Saint Charles, MO', 'Value': '49'}, {'City': 'Frederick, MD', 'Value': '49'}, {'City': 'Round Rock, TX', 'Value': '49'}, {'City': 'Tyler, TX', 'Value': '49'}, {'City': 'The Woodlands, TX', 'Value': '50'}, {'City': 'Bolingbrook, IL', 'Value': '50'}, {'City': 'Brownsville, TX', 'Value': '50'}, {'City': 'Waco, TX', 'Value': '50'}, {'City': 'Jackson, TN', 'Value': '50'}, {'City': 'Lafayette, LA', 'Value': '50'}, {'City': 'Wilmington, NC', 'Value': '51'}, {'City': 'Grand Island, NE', 'Value': '51'}, {'City': 'Killeen, TX', 'Value': '51'}, {'City': 'Trenton, NJ', 'Value': '51'}, {'City': 'Owensboro, KY', 'Value': '51'}, {'City': 'Hattiesburg, MS', 'Value': '51'}, {'City': 'Carmel, IN', 'Value': '52'}, {'City': 'Allentown, PA', 'Value': '52'}, {'City': 'Lees Summit, MO', 'Value': '52'}, {'City': 'Saint Joseph, MO', 'Value': '52'}, {'City': 'Jonesboro, AR', 'Value': '52'}, {'City': 'Pocatello, ID', 'Value': '52'}, {'City': 'Chesapeake, VA', 'Value': '53'}, {'City': 'Clarksville, TN', 'Value': '53'}, {'City': 'Bryan, TX', 'Value': '53'}, {'City': 'College Station, TX', 'Value': '53'}, {'City': 'Lubbock, TX', 'Value': '53'}, {'City': 'Lakewood, CO', 'Value': '53'}, {'City': 'Arvada, CO', 'Value': '53'}, {'City': 'Westminster, CO', 'Value': '53'}, {'City': 'Olathe, KS', 'Value': '54'}, {'City': 'Lewiston, ME', 'Value': '54'}, {'City': 'Auburn, ME', 'Value': '54'}, {'City': 'Great Falls, MT', 'Value': '54'}, {'City': 'Mobile, AL', 'Value': '55'}, {'City': 'Waukesha, WI', 'Value': '55'}, {'City': 'Springdale, AR', 'Value': '55'}, {'City': 'Coral Springs, FL', 'Value': '55'}, {'City': 'Sunrise, FL', 'Value': '55'}, {'City': 'Lauderhill, FL', 'Value': '55'}, {'City': 'Baytown, TX', 'Value': '56'}, {'City': 'Pasadena, TX', 'Value': '56'}, {'City': 'League City, TX', 'Value': '56'}, {'City': 'Paterson, NJ', 'Value': '56'}, {'City': 'Warner Robins, GA', 'Value': '56'}, {'City': 'Roanoke, VA', 'Value': '56'}, {'City': 'Newport News, VA', 'Value': '57'}, {'City': 'Evansville, IN', 'Value': '57'}, {'City': 'Laramie, WY', 'Value': '57'}, {'City': 'Sioux City, IA', 'Value': '57'}, {'City': 'O Fallon, MO', 'Value': '57'}, {'City': 'San Francisco, CA', 'Value': '57'}, {'City': 'San Mateo, CA', 'Value': '57'}, {'City': 'Daly City, CA', 'Value': '57'}, {'City': 'Rochester, MN', 'Value': '58'}, {'City': 'Lawton, OK', 'Value': '58'}, {'City': 'Spokane, WA', 'Value': '58'}, {'City': 'Spokane Valley, WA', 'Value': '58'}, {'City': 'Savannah, GA', 'Value': '59'}, {'City': \"Town 'n' Country, FL\", 'Value': '59'}, {'City': 'Bowling Green, KY', 'Value': '59'}, {'City': 'Columbia, MO', 'Value': '59'}, {'City': 'Springfield, IL', 'Value': '59'}, {'City': 'North Charleston, SC', 'Value': '59'}, {'City': 'Bozeman, MT', 'Value': '60'}, {'City': 'Peoria, IL', 'Value': '60'}, {'City': 'Bismarck, ND', 'Value': '60'}, {'City': 'Toledo, OH', 'Value': '60'}, {'City': 'Iowa City, IA', 'Value': '60'}, {'City': 'San Leandro, CA', 'Value': '60'}, {'City': 'Alameda, CA', 'Value': '60'}, {'City': 'Cheyenne, WY', 'Value': '61'}, {'City': 'Oakland, CA', 'Value': '61'}, {'City': 'Berkeley, CA', 'Value': '61'}, {'City': 'Richmond, CA', 'Value': '61'}, {'City': 'Reading, PA', 'Value': '61'}, {'City': 'Lafayette, IN', 'Value': '62'}, {'City': 'Philadelphia, PA', 'Value': '62'}, {'City': 'Butte, MT', 'Value': '62'}, {'City': 'Palatine, IL', 'Value': '62'}, {'City': 'Nashua, NH', 'Value': '62'}, {'City': 'Arlington Heights, IL', 'Value': '62'}, {'City': 'Evanston, IL', 'Value': '62'}, {'City': 'Springfield, MO', 'Value': '63'}, {'City': 'Idaho Falls, ID', 'Value': '63'}, {'City': 'Newark, DE', 'Value': '63'}, {'City': 'Bear, DE', 'Value': '63'}, {'City': 'Middletown, DE', 'Value': '63'}, {'City': 'Wilmington, DE', 'Value': '63'}, {'City': 'Aberdeen, SD', 'Value': '64'}, {'City': 'New Orleans, LA', 'Value': '64'}, {'City': 'Metairie, LA', 'Value': '64'}, {'City': 'Montgomery, AL', 'Value': '64'}, {'City': 'Murfreesboro, TN', 'Value': '64'}, {'City': 'Baton Rouge, LA', 'Value': '65'}, {'City': 'Decatur, IL', 'Value': '65'}, {'City': 'Davenport, IA', 'Value': '65'}, {'City': 'Port Saint Lucie, FL', 'Value': '65'}, {'City': 'New York, NY', 'Value': '65'}, {'City': 'Jersey City, NJ', 'Value': '65'}, {'City': 'Union City, NJ', 'Value': '65'}, {'City': 'Hartford, CT', 'Value': '66'}, {'City': 'New Britain, CT', 'Value': '66'}, {'City': 'Huntington, WV', 'Value': '66'}, {'City': 'Vancouver, WA', 'Value': '66'}, {'City': 'Tallahassee, FL', 'Value': '66'}, {'City': 'Missoula, MT', 'Value': '67'}, {'City': 'High Point, NC', 'Value': '67'}, {'City': 'Passaic, NJ', 'Value': '67'}, {'City': 'Clifton, NJ', 'Value': '67'}, {'City': 'Greensboro, NC', 'Value': '67'}, {'City': 'Cincinnati, OH', 'Value': '67'}, {'City': 'Covington, KY', 'Value': '67'}, {'City': 'Duluth, MN', 'Value': '68'}, {'City': 'Bloomington, IN', 'Value': '68'}, {'City': 'Pompano Beach, FL', 'Value': '68'}, {'City': 'Deerfield Beach, FL', 'Value': '68'}, {'City': 'Parkersburg, WV', 'Value': '68'}, {'City': 'Birmingham, AL', 'Value': '69'}, {'City': 'Danbury, CT', 'Value': '69'}, {'City': 'Detroit, MI', 'Value': '69'}, {'City': 'Warren, MI', 'Value': '69'}, {'City': 'Dearborn, MI', 'Value': '69'}, {'City': 'Waterbury, CT', 'Value': '69'}, {'City': 'Cedar Rapids, IA', 'Value': '70'}, {'City': 'Lowell, MA', 'Value': '70'}, {'City': 'Lawrence, MA', 'Value': '70'}, {'City': 'Asheville, NC', 'Value': '70'}, {'City': 'New Haven, CT', 'Value': '70'}, {'City': 'Brockton, MA', 'Value': '70'}, {'City': 'Quincy, MA', 'Value': '70'}, {'City': 'Columbus, OH', 'Value': '71'}, {'City': 'Aurora, IL', 'Value': '71'}, {'City': 'Naperville, IL', 'Value': '71'}, {'City': 'Elgin, IL', 'Value': '71'}, {'City': 'Billings, MT', 'Value': '71'}, {'City': 'Rutland, VT', 'Value': '72'}, {'City': 'Lexington, KY', 'Value': '72'}, {'City': 'Norfolk, VA', 'Value': '72'}, {'City': 'Fort Lauderdale, FL', 'Value': '72'}, {'City': 'Hollywood, FL', 'Value': '72'}, {'City': 'Plantation, FL', 'Value': '72'}, {'City': 'Dale City, VA', 'Value': '73'}, {'City': 'Jacksonville, NC', 'Value': '73'}, {'City': 'Renton, WA', 'Value': '73'}, {'City': 'Champaign, IL', 'Value': '73'}, {'City': 'Dover, NH', 'Value': '73'}, {'City': 'Rochester, NH', 'Value': '73'}, {'City': 'Centennial, CO', 'Value': '74'}, {'City': 'Highlands Ranch, CO', 'Value': '74'}, {'City': 'Denver, CO', 'Value': '74'}, {'City': 'Manchester, NH', 'Value': '74'}, {'City': 'Salt Lake City, UT', 'Value': '74'}, {'City': 'Aurora, CO', 'Value': '74'}, {'City': 'Bridgeport, CT', 'Value': '75'}, {'City': 'Corpus Christi, TX', 'Value': '75'}, {'City': 'Racine, WI', 'Value': '75'}, {'City': 'Watertown, SD', 'Value': '75'}, {'City': 'Hillsboro, OR', 'Value': '75'}, {'City': 'Beaverton, OR', 'Value': '75'}, {'City': 'Jacksonville, FL', 'Value': '76'}, {'City': 'Kailua, HI', 'Value': '76'}, {'City': 'Bethlehem, PA', 'Value': '76'}, {'City': 'Hammond, IN', 'Value': '76'}, {'City': 'Gary, IN', 'Value': '76'}, {'City': 'Roswell, GA', 'Value': '76'}, {'City': 'Ann Arbor, MI', 'Value': '77'}, {'City': 'Chattanooga, TN', 'Value': '77'}, {'City': 'Muncie, IN', 'Value': '77'}, {'City': 'Layton, UT', 'Value': '77'}, {'City': 'Oshkosh, WI', 'Value': '77'}, {'City': 'Kenosha, WI', 'Value': '77'}, {'City': 'Waukegan, IL', 'Value': '78'}, {'City': 'Salem, OR', 'Value': '78'}, {'City': 'Minot, ND', 'Value': '78'}, {'City': 'Newton, MA', 'Value': '78'}, {'City': 'Biloxi, MS', 'Value': '78'}, {'City': 'Bloomington, IL', 'Value': '78'}, {'City': 'Framingham, MA', 'Value': '79'}, {'City': 'West Fargo, ND', 'Value': '79'}, {'City': 'Fargo, ND', 'Value': '79'}, {'City': 'Sioux Falls, SD', 'Value': '79'}, {'City': 'Saint Cloud, MN', 'Value': '79'}, {'City': 'Miami, FL', 'Value': '79'}, {'City': 'Miami Beach, FL', 'Value': '79'}, {'City': 'Appleton, WI', 'Value': '80'}, {'City': 'Akron, OH', 'Value': '80'}, {'City': 'Saint Paul, MN', 'Value': '80'}, {'City': 'Waterloo, IA', 'Value': '80'}, {'City': 'Seattle, WA', 'Value': '80'}, {'City': 'Bellevue, WA', 'Value': '80'}, {'City': 'Hilo, HI', 'Value': '81'}, {'City': 'Morgantown, WV', 'Value': '81'}, {'City': 'Charlotte, NC', 'Value': '81'}, {'City': 'Charleston, WV', 'Value': '81'}, {'City': 'West Palm Beach, FL', 'Value': '81'}, {'City': 'Dallas, TX', 'Value': '82'}, {'City': 'Bellevue, NE', 'Value': '82'}, {'City': 'Fairbanks, AK', 'Value': '82'}, {'City': 'Wheeling, WV', 'Value': '82'}, {'City': 'Green Bay, WI', 'Value': '82'}, {'City': 'Eau Claire, WI', 'Value': '82'}, {'City': 'Knoxville, TN', 'Value': '83'}, {'City': 'Madison, WI', 'Value': '83'}, {'City': 'Gresham, OR', 'Value': '83'}, {'City': 'San Antonio, TX', 'Value': '83'}, {'City': 'Omaha, NE', 'Value': '83'}, {'City': 'Irving, TX', 'Value': '83'}, {'City': 'Lewisville, TX', 'Value': '83'}, {'City': 'Flower Mound, TX', 'Value': '83'}, {'City': 'Minneapolis, MN', 'Value': '84'}, {'City': 'Portland, OR', 'Value': '84'}, {'City': 'Brooklyn Park, MN', 'Value': '84'}, {'City': 'Plymouth, MN', 'Value': '84'}, {'City': 'Scranton, PA', 'Value': '85'}, {'City': 'Hampton, VA', 'Value': '85'}, {'City': 'Raleigh, NC', 'Value': '85'}, {'City': 'Durham, NC', 'Value': '85'}, {'City': 'Cary, NC', 'Value': '85'}, {'City': 'Kalamazoo, MI', 'Value': '85'}, {'City': 'New Bedford, MA', 'Value': '86'}, {'City': 'Fall River, MA', 'Value': '86'}, {'City': 'South Bend, IN', 'Value': '86'}, {'City': 'Eugene, OR', 'Value': '86'}, {'City': 'Austin, TX', 'Value': '86'}, {'City': 'Anchorage, AK', 'Value': '86'}, {'City': 'Cleveland, OH', 'Value': '87'}, {'City': 'Concord, NH', 'Value': '87'}, {'City': 'Atascocita, TX', 'Value': '87'}, {'City': 'Pittsburgh, PA', 'Value': '87'}, {'City': 'Tacoma, WA', 'Value': '87'}, {'City': 'South Portland, ME', 'Value': '87'}, {'City': 'Portland, ME', 'Value': '87'}, {'City': 'Norwalk, CT', 'Value': '88'}, {'City': 'Stamford, CT', 'Value': '88'}, {'City': 'Little Rock, AR', 'Value': '88'}, {'City': 'Waldorf, MD', 'Value': '88'}, {'City': 'Kenner, LA', 'Value': '88'}, {'City': 'Dover, DE', 'Value': '89'}, {'City': 'Flint, MI', 'Value': '89'}, {'City': 'Wichita, KS', 'Value': '89'}, {'City': 'Houston, TX', 'Value': '89'}, {'City': 'Memphis, TN', 'Value': '89'}, {'City': 'Southaven, MS', 'Value': '89'}, {'City': 'Bellingham, WA', 'Value': '90'}, {'City': 'Nashville, TN', 'Value': '90'}, {'City': 'Springfield, MA', 'Value': '90'}, {'City': 'Everett, WA', 'Value': '90'}, {'City': 'Centreville, VA', 'Value': '90'}, {'City': 'Richmond, VA', 'Value': '90'}, {'City': 'Erie, PA', 'Value': '91'}, {'City': 'Albany, NY', 'Value': '91'}, {'City': 'Baltimore, MD', 'Value': '91'}, {'City': 'Ellicott City, MD', 'Value': '91'}, {'City': 'Glen Burnie, MD', 'Value': '91'}, {'City': 'Grand Forks, ND', 'Value': '91'}, {'City': 'Virginia Beach, VA', 'Value': '92'}, {'City': 'Louisville, KY', 'Value': '92'}, {'City': 'Chicago, IL', 'Value': '92'}, {'City': 'Cicero, IL', 'Value': '92'}, {'City': 'Farmington, MI', 'Value': '92'}, {'City': 'Auburn, WA', 'Value': '92'}, {'City': 'Kent, WA', 'Value': '92'}, {'City': 'Federal Way, WA', 'Value': '92'}, {'City': 'Washington, DC', 'Value': '93'}, {'City': 'Arlington, VA', 'Value': '93'}, {'City': 'Alexandria, VA', 'Value': '93'}, {'City': 'Saint Louis, MO', 'Value': '93'}, {'City': 'Westland, MI', 'Value': '94'}, {'City': 'Montpelier, VT', 'Value': '94'}, {'City': 'Barre, VT', 'Value': '94'}, {'City': 'Livonia, MI', 'Value': '94'}, {'City': 'Des Moines, IA', 'Value': '94'}, {'City': 'Dayton, OH', 'Value': '94'}, {'City': 'Worcester, MA', 'Value': '95'}, {'City': 'Camden, NJ', 'Value': '95'}, {'City': 'Bloomington, MN', 'Value': '95'}, {'City': 'Schaumburg, IL', 'Value': '95'}, {'City': 'Milwaukee, WI', 'Value': '95'}, {'City': 'Winooski, VT', 'Value': '95'}, {'City': 'Burlington, VT', 'Value': '95'}, {'City': 'Yonkers, NY', 'Value': '96'}, {'City': 'New Rochelle, NY', 'Value': '96'}, {'City': 'Mount Vernon, NY', 'Value': '96'}, {'City': 'Bangor, ME', 'Value': '96'}, {'City': 'Rockford, IL', 'Value': '96'}, {'City': 'Fort Wayne, IN', 'Value': '97'}, {'City': 'Lansing, MI', 'Value': '97'}, {'City': 'Newark, NJ', 'Value': '97'}, {'City': 'Elizabeth, NJ', 'Value': '97'}, {'City': 'Parma, OH', 'Value': '97'}, {'City': 'Grand Rapids, MI', 'Value': '97'}, {'City': 'Boston, MA', 'Value': '98'}, {'City': 'Cambridge, MA', 'Value': '98'}, {'City': 'Lynn, MA', 'Value': '98'}, {'City': 'Somerville, MA', 'Value': '98'}, {'City': 'Wyoming, MI', 'Value': '98'}, {'City': 'Indianapolis, IN', 'Value': '98'}, {'City': 'Providence, RI', 'Value': '99'}, {'City': 'Warwick, RI', 'Value': '99'}, {'City': 'Cranston, RI', 'Value': '99'}, {'City': 'Rochester, NY', 'Value': '99'}, {'City': 'Canton, OH', 'Value': '99'}, {'City': 'Buffalo, NY', 'Value': '99'}, {'City': 'Cheektowaga, NY', 'Value': '99'}, {'City': 'Syracuse, NY', 'Value': '100'}, {'City': 'Youngstown, OH', 'Value': '100'}, {'City': 'Ketchikan, AK', 'Value': '100'}, {'City': 'Sitka, AK', 'Value': '100'}, {'City': 'Juneau, AK', 'Value': '100'}]\n"
     ]
    }
   ],
   "source": [
    "# Made a list to iterate through\n",
    "xlist = soup.find_all('table', class_=\"cardhub-edu-table climaterank center-aligned\")[0].text.replace('\\n\\n\\n','+')\\\n",
    ".replace('\\n',':').split('+')\n",
    "\n",
    "counter=0\n",
    "datalist=[]\n",
    "for thing in xlist[1:-1]:\n",
    "    Data={}\n",
    "    if counter==0:\n",
    "        x= thing.split(':')\n",
    "        Data['City']=x[2]\n",
    "        Data['Value']=x[1]\n",
    "        counter+=1\n",
    "    else:\n",
    "        x= thing.split(':')\n",
    "        counter+=1\n",
    "        Data['City']=x[1]\n",
    "        Data['Value']=x[0]\n",
    "    datalist.append(Data)\n",
    "print(datalist)\n",
    "    "
   ]
  },
  {
   "cell_type": "code",
   "execution_count": 41,
   "metadata": {},
   "outputs": [
    {
     "name": "stdout",
     "output_type": "stream",
     "text": [
      "1\n"
     ]
    }
   ],
   "source": [
    "print(Data['Roseville, CA'])"
   ]
  },
  {
   "cell_type": "code",
   "execution_count": 68,
   "metadata": {},
   "outputs": [
    {
     "data": {
      "text/html": [
       "<div>\n",
       "<style scoped>\n",
       "    .dataframe tbody tr th:only-of-type {\n",
       "        vertical-align: middle;\n",
       "    }\n",
       "\n",
       "    .dataframe tbody tr th {\n",
       "        vertical-align: top;\n",
       "    }\n",
       "\n",
       "    .dataframe thead th {\n",
       "        text-align: right;\n",
       "    }\n",
       "</style>\n",
       "<table border=\"1\" class=\"dataframe\">\n",
       "  <thead>\n",
       "    <tr style=\"text-align: right;\">\n",
       "      <th></th>\n",
       "      <th>City</th>\n",
       "      <th>Value</th>\n",
       "    </tr>\n",
       "  </thead>\n",
       "  <tbody>\n",
       "    <tr>\n",
       "      <th>0</th>\n",
       "      <td>Arden-Arcade, CA</td>\n",
       "      <td>1</td>\n",
       "    </tr>\n",
       "    <tr>\n",
       "      <th>1</th>\n",
       "      <td>Citrus Heights, CA</td>\n",
       "      <td>1</td>\n",
       "    </tr>\n",
       "    <tr>\n",
       "      <th>2</th>\n",
       "      <td>Roseville, CA</td>\n",
       "      <td>1</td>\n",
       "    </tr>\n",
       "    <tr>\n",
       "      <th>3</th>\n",
       "      <td>Davis, CA</td>\n",
       "      <td>1</td>\n",
       "    </tr>\n",
       "    <tr>\n",
       "      <th>4</th>\n",
       "      <td>Glendale, CA</td>\n",
       "      <td>1</td>\n",
       "    </tr>\n",
       "    <tr>\n",
       "      <th>...</th>\n",
       "      <td>...</td>\n",
       "      <td>...</td>\n",
       "    </tr>\n",
       "    <tr>\n",
       "      <th>595</th>\n",
       "      <td>Syracuse, NY</td>\n",
       "      <td>100</td>\n",
       "    </tr>\n",
       "    <tr>\n",
       "      <th>596</th>\n",
       "      <td>Youngstown, OH</td>\n",
       "      <td>100</td>\n",
       "    </tr>\n",
       "    <tr>\n",
       "      <th>597</th>\n",
       "      <td>Ketchikan, AK</td>\n",
       "      <td>100</td>\n",
       "    </tr>\n",
       "    <tr>\n",
       "      <th>598</th>\n",
       "      <td>Sitka, AK</td>\n",
       "      <td>100</td>\n",
       "    </tr>\n",
       "    <tr>\n",
       "      <th>599</th>\n",
       "      <td>Juneau, AK</td>\n",
       "      <td>100</td>\n",
       "    </tr>\n",
       "  </tbody>\n",
       "</table>\n",
       "<p>600 rows × 2 columns</p>\n",
       "</div>"
      ],
      "text/plain": [
       "                   City Value\n",
       "0      Arden-Arcade, CA     1\n",
       "1    Citrus Heights, CA     1\n",
       "2         Roseville, CA     1\n",
       "3             Davis, CA     1\n",
       "4          Glendale, CA     1\n",
       "..                  ...   ...\n",
       "595        Syracuse, NY   100\n",
       "596      Youngstown, OH   100\n",
       "597       Ketchikan, AK   100\n",
       "598           Sitka, AK   100\n",
       "599          Juneau, AK   100\n",
       "\n",
       "[600 rows x 2 columns]"
      ]
     },
     "execution_count": 68,
     "metadata": {},
     "output_type": "execute_result"
    }
   ],
   "source": [
    "blue=pd.DataFrame(datalist)\n",
    "blue"
   ]
  },
  {
   "cell_type": "code",
   "execution_count": 66,
   "metadata": {},
   "outputs": [],
   "source": [
    "blue.to_csv(r'Cities.csv')"
   ]
  },
  {
   "cell_type": "code",
   "execution_count": null,
   "metadata": {},
   "outputs": [],
   "source": []
  }
 ],
 "metadata": {
  "kernelspec": {
   "display_name": "Python 3",
   "language": "python",
   "name": "python3"
  },
  "language_info": {
   "codemirror_mode": {
    "name": "ipython",
    "version": 3
   },
   "file_extension": ".py",
   "mimetype": "text/x-python",
   "name": "python",
   "nbconvert_exporter": "python",
   "pygments_lexer": "ipython3",
   "version": "3.7.5"
  }
 },
 "nbformat": 4,
 "nbformat_minor": 4
}
